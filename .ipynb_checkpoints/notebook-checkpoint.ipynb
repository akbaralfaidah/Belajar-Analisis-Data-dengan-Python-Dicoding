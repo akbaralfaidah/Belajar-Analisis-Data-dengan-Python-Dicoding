{
 "cells": [
  {
   "cell_type": "markdown",
   "metadata": {
    "id": "H9wADwK78DCz"
   },
   "source": [
    "# Proyek Analisis Data: [Input Nama Dataset]\n",
    "- **Nama:** Akbar Alfaidah\n",
    "- **Email:** akbaralfaidahohs@gmail.com\n",
    "- **ID Dicoding:** akbaralfaidah"
   ]
  },
  {
   "cell_type": "markdown",
   "metadata": {
    "id": "eE0raob58DC0"
   },
   "source": [
    "## Menentukan Pertanyaan Bisnis"
   ]
  },
  {
   "cell_type": "markdown",
   "metadata": {
    "id": "GmQeQ5YF8DC0"
   },
   "source": [
    "\n",
    "1.   Bagaimana Musim Mempengaruhi Penggunaan Bike Sharing?\n",
    "2.   Bagaimana Perbandingan Pengguna Bike Sharing antara Non-Anggota dan Anggota Berdasarkan Tahun?\n",
    "\n"
   ]
  },
  {
   "cell_type": "markdown",
   "metadata": {
    "id": "H-z4QGlO8DC1"
   },
   "source": [
    "## Import Semua Packages/Library yang Digunakan"
   ]
  },
  {
   "cell_type": "code",
   "execution_count": 1,
   "metadata": {
    "executionInfo": {
     "elapsed": 3189,
     "status": "ok",
     "timestamp": 1728042033201,
     "user": {
      "displayName": "Animedy",
      "userId": "05359384498502644151"
     },
     "user_tz": -420
    },
    "id": "FVYwaObI8DC1"
   },
   "outputs": [],
   "source": [
    "import numpy as np\n",
    "import pandas as pd\n",
    "import matplotlib.pyplot as plt\n",
    "import seaborn as sns"
   ]
  },
  {
   "cell_type": "markdown",
   "metadata": {
    "id": "h_Sh51Xy8DC1"
   },
   "source": [
    "## Data Wrangling"
   ]
  },
  {
   "cell_type": "markdown",
   "metadata": {
    "id": "sXU2GBYu8DC1"
   },
   "source": [
    "### Gathering Data"
   ]
  },
  {
   "cell_type": "code",
   "execution_count": 2,
   "metadata": {
    "colab": {
     "base_uri": "https://localhost:8080/"
    },
    "executionInfo": {
     "elapsed": 22389,
     "status": "ok",
     "timestamp": 1728042369100,
     "user": {
      "displayName": "Animedy",
      "userId": "05359384498502644151"
     },
     "user_tz": -420
    },
    "id": "zjCBk1BI8DC1",
    "outputId": "0f6bd3b6-5322-4c48-d595-81ad8a26cf88"
   },
   "outputs": [
    {
     "data": {
      "text/html": [
       "<div>\n",
       "<style scoped>\n",
       "    .dataframe tbody tr th:only-of-type {\n",
       "        vertical-align: middle;\n",
       "    }\n",
       "\n",
       "    .dataframe tbody tr th {\n",
       "        vertical-align: top;\n",
       "    }\n",
       "\n",
       "    .dataframe thead th {\n",
       "        text-align: right;\n",
       "    }\n",
       "</style>\n",
       "<table border=\"1\" class=\"dataframe\">\n",
       "  <thead>\n",
       "    <tr style=\"text-align: right;\">\n",
       "      <th></th>\n",
       "      <th>instant</th>\n",
       "      <th>dteday</th>\n",
       "      <th>season</th>\n",
       "      <th>yr</th>\n",
       "      <th>mnth</th>\n",
       "      <th>holiday</th>\n",
       "      <th>weekday</th>\n",
       "      <th>workingday</th>\n",
       "      <th>weathersit</th>\n",
       "      <th>temp</th>\n",
       "      <th>atemp</th>\n",
       "      <th>hum</th>\n",
       "      <th>windspeed</th>\n",
       "      <th>casual</th>\n",
       "      <th>registered</th>\n",
       "      <th>cnt</th>\n",
       "    </tr>\n",
       "  </thead>\n",
       "  <tbody>\n",
       "    <tr>\n",
       "      <th>0</th>\n",
       "      <td>1</td>\n",
       "      <td>2011-01-01</td>\n",
       "      <td>1</td>\n",
       "      <td>0</td>\n",
       "      <td>1</td>\n",
       "      <td>0</td>\n",
       "      <td>6</td>\n",
       "      <td>0</td>\n",
       "      <td>2</td>\n",
       "      <td>0.344167</td>\n",
       "      <td>0.363625</td>\n",
       "      <td>0.805833</td>\n",
       "      <td>0.160446</td>\n",
       "      <td>331</td>\n",
       "      <td>654</td>\n",
       "      <td>985</td>\n",
       "    </tr>\n",
       "    <tr>\n",
       "      <th>1</th>\n",
       "      <td>2</td>\n",
       "      <td>2011-01-02</td>\n",
       "      <td>1</td>\n",
       "      <td>0</td>\n",
       "      <td>1</td>\n",
       "      <td>0</td>\n",
       "      <td>0</td>\n",
       "      <td>0</td>\n",
       "      <td>2</td>\n",
       "      <td>0.363478</td>\n",
       "      <td>0.353739</td>\n",
       "      <td>0.696087</td>\n",
       "      <td>0.248539</td>\n",
       "      <td>131</td>\n",
       "      <td>670</td>\n",
       "      <td>801</td>\n",
       "    </tr>\n",
       "    <tr>\n",
       "      <th>2</th>\n",
       "      <td>3</td>\n",
       "      <td>2011-01-03</td>\n",
       "      <td>1</td>\n",
       "      <td>0</td>\n",
       "      <td>1</td>\n",
       "      <td>0</td>\n",
       "      <td>1</td>\n",
       "      <td>1</td>\n",
       "      <td>1</td>\n",
       "      <td>0.196364</td>\n",
       "      <td>0.189405</td>\n",
       "      <td>0.437273</td>\n",
       "      <td>0.248309</td>\n",
       "      <td>120</td>\n",
       "      <td>1229</td>\n",
       "      <td>1349</td>\n",
       "    </tr>\n",
       "    <tr>\n",
       "      <th>3</th>\n",
       "      <td>4</td>\n",
       "      <td>2011-01-04</td>\n",
       "      <td>1</td>\n",
       "      <td>0</td>\n",
       "      <td>1</td>\n",
       "      <td>0</td>\n",
       "      <td>2</td>\n",
       "      <td>1</td>\n",
       "      <td>1</td>\n",
       "      <td>0.200000</td>\n",
       "      <td>0.212122</td>\n",
       "      <td>0.590435</td>\n",
       "      <td>0.160296</td>\n",
       "      <td>108</td>\n",
       "      <td>1454</td>\n",
       "      <td>1562</td>\n",
       "    </tr>\n",
       "    <tr>\n",
       "      <th>4</th>\n",
       "      <td>5</td>\n",
       "      <td>2011-01-05</td>\n",
       "      <td>1</td>\n",
       "      <td>0</td>\n",
       "      <td>1</td>\n",
       "      <td>0</td>\n",
       "      <td>3</td>\n",
       "      <td>1</td>\n",
       "      <td>1</td>\n",
       "      <td>0.226957</td>\n",
       "      <td>0.229270</td>\n",
       "      <td>0.436957</td>\n",
       "      <td>0.186900</td>\n",
       "      <td>82</td>\n",
       "      <td>1518</td>\n",
       "      <td>1600</td>\n",
       "    </tr>\n",
       "  </tbody>\n",
       "</table>\n",
       "</div>"
      ],
      "text/plain": [
       "   instant      dteday  season  yr  mnth  holiday  weekday  workingday  \\\n",
       "0        1  2011-01-01       1   0     1        0        6           0   \n",
       "1        2  2011-01-02       1   0     1        0        0           0   \n",
       "2        3  2011-01-03       1   0     1        0        1           1   \n",
       "3        4  2011-01-04       1   0     1        0        2           1   \n",
       "4        5  2011-01-05       1   0     1        0        3           1   \n",
       "\n",
       "   weathersit      temp     atemp       hum  windspeed  casual  registered  \\\n",
       "0           2  0.344167  0.363625  0.805833   0.160446     331         654   \n",
       "1           2  0.363478  0.353739  0.696087   0.248539     131         670   \n",
       "2           1  0.196364  0.189405  0.437273   0.248309     120        1229   \n",
       "3           1  0.200000  0.212122  0.590435   0.160296     108        1454   \n",
       "4           1  0.226957  0.229270  0.436957   0.186900      82        1518   \n",
       "\n",
       "    cnt  \n",
       "0   985  \n",
       "1   801  \n",
       "2  1349  \n",
       "3  1562  \n",
       "4  1600  "
      ]
     },
     "execution_count": 2,
     "metadata": {},
     "output_type": "execute_result"
    }
   ],
   "source": [
    "day_df = pd.read_csv('data/day.csv')\n",
    "day_df.head()"
   ]
  },
  {
   "cell_type": "code",
   "execution_count": 3,
   "metadata": {
    "colab": {
     "base_uri": "https://localhost:8080/"
    },
    "executionInfo": {
     "elapsed": 829,
     "status": "ok",
     "timestamp": 1728042690858,
     "user": {
      "displayName": "Animedy",
      "userId": "05359384498502644151"
     },
     "user_tz": -420
    },
    "id": "qUCjUFgvVPNB",
    "outputId": "e8bfd7db-3323-4f7b-a65a-a28f51096b63"
   },
   "outputs": [
    {
     "data": {
      "text/html": [
       "<div>\n",
       "<style scoped>\n",
       "    .dataframe tbody tr th:only-of-type {\n",
       "        vertical-align: middle;\n",
       "    }\n",
       "\n",
       "    .dataframe tbody tr th {\n",
       "        vertical-align: top;\n",
       "    }\n",
       "\n",
       "    .dataframe thead th {\n",
       "        text-align: right;\n",
       "    }\n",
       "</style>\n",
       "<table border=\"1\" class=\"dataframe\">\n",
       "  <thead>\n",
       "    <tr style=\"text-align: right;\">\n",
       "      <th></th>\n",
       "      <th>instant</th>\n",
       "      <th>dteday</th>\n",
       "      <th>season</th>\n",
       "      <th>yr</th>\n",
       "      <th>mnth</th>\n",
       "      <th>hr</th>\n",
       "      <th>holiday</th>\n",
       "      <th>weekday</th>\n",
       "      <th>workingday</th>\n",
       "      <th>weathersit</th>\n",
       "      <th>temp</th>\n",
       "      <th>atemp</th>\n",
       "      <th>hum</th>\n",
       "      <th>windspeed</th>\n",
       "      <th>casual</th>\n",
       "      <th>registered</th>\n",
       "      <th>cnt</th>\n",
       "    </tr>\n",
       "  </thead>\n",
       "  <tbody>\n",
       "    <tr>\n",
       "      <th>0</th>\n",
       "      <td>1</td>\n",
       "      <td>2011-01-01</td>\n",
       "      <td>1</td>\n",
       "      <td>0</td>\n",
       "      <td>1</td>\n",
       "      <td>0</td>\n",
       "      <td>0</td>\n",
       "      <td>6</td>\n",
       "      <td>0</td>\n",
       "      <td>1</td>\n",
       "      <td>0.24</td>\n",
       "      <td>0.2879</td>\n",
       "      <td>0.81</td>\n",
       "      <td>0.0</td>\n",
       "      <td>3</td>\n",
       "      <td>13</td>\n",
       "      <td>16</td>\n",
       "    </tr>\n",
       "    <tr>\n",
       "      <th>1</th>\n",
       "      <td>2</td>\n",
       "      <td>2011-01-01</td>\n",
       "      <td>1</td>\n",
       "      <td>0</td>\n",
       "      <td>1</td>\n",
       "      <td>1</td>\n",
       "      <td>0</td>\n",
       "      <td>6</td>\n",
       "      <td>0</td>\n",
       "      <td>1</td>\n",
       "      <td>0.22</td>\n",
       "      <td>0.2727</td>\n",
       "      <td>0.80</td>\n",
       "      <td>0.0</td>\n",
       "      <td>8</td>\n",
       "      <td>32</td>\n",
       "      <td>40</td>\n",
       "    </tr>\n",
       "    <tr>\n",
       "      <th>2</th>\n",
       "      <td>3</td>\n",
       "      <td>2011-01-01</td>\n",
       "      <td>1</td>\n",
       "      <td>0</td>\n",
       "      <td>1</td>\n",
       "      <td>2</td>\n",
       "      <td>0</td>\n",
       "      <td>6</td>\n",
       "      <td>0</td>\n",
       "      <td>1</td>\n",
       "      <td>0.22</td>\n",
       "      <td>0.2727</td>\n",
       "      <td>0.80</td>\n",
       "      <td>0.0</td>\n",
       "      <td>5</td>\n",
       "      <td>27</td>\n",
       "      <td>32</td>\n",
       "    </tr>\n",
       "    <tr>\n",
       "      <th>3</th>\n",
       "      <td>4</td>\n",
       "      <td>2011-01-01</td>\n",
       "      <td>1</td>\n",
       "      <td>0</td>\n",
       "      <td>1</td>\n",
       "      <td>3</td>\n",
       "      <td>0</td>\n",
       "      <td>6</td>\n",
       "      <td>0</td>\n",
       "      <td>1</td>\n",
       "      <td>0.24</td>\n",
       "      <td>0.2879</td>\n",
       "      <td>0.75</td>\n",
       "      <td>0.0</td>\n",
       "      <td>3</td>\n",
       "      <td>10</td>\n",
       "      <td>13</td>\n",
       "    </tr>\n",
       "    <tr>\n",
       "      <th>4</th>\n",
       "      <td>5</td>\n",
       "      <td>2011-01-01</td>\n",
       "      <td>1</td>\n",
       "      <td>0</td>\n",
       "      <td>1</td>\n",
       "      <td>4</td>\n",
       "      <td>0</td>\n",
       "      <td>6</td>\n",
       "      <td>0</td>\n",
       "      <td>1</td>\n",
       "      <td>0.24</td>\n",
       "      <td>0.2879</td>\n",
       "      <td>0.75</td>\n",
       "      <td>0.0</td>\n",
       "      <td>0</td>\n",
       "      <td>1</td>\n",
       "      <td>1</td>\n",
       "    </tr>\n",
       "  </tbody>\n",
       "</table>\n",
       "</div>"
      ],
      "text/plain": [
       "   instant      dteday  season  yr  mnth  hr  holiday  weekday  workingday  \\\n",
       "0        1  2011-01-01       1   0     1   0        0        6           0   \n",
       "1        2  2011-01-01       1   0     1   1        0        6           0   \n",
       "2        3  2011-01-01       1   0     1   2        0        6           0   \n",
       "3        4  2011-01-01       1   0     1   3        0        6           0   \n",
       "4        5  2011-01-01       1   0     1   4        0        6           0   \n",
       "\n",
       "   weathersit  temp   atemp   hum  windspeed  casual  registered  cnt  \n",
       "0           1  0.24  0.2879  0.81        0.0       3          13   16  \n",
       "1           1  0.22  0.2727  0.80        0.0       8          32   40  \n",
       "2           1  0.22  0.2727  0.80        0.0       5          27   32  \n",
       "3           1  0.24  0.2879  0.75        0.0       3          10   13  \n",
       "4           1  0.24  0.2879  0.75        0.0       0           1    1  "
      ]
     },
     "execution_count": 3,
     "metadata": {},
     "output_type": "execute_result"
    }
   ],
   "source": [
    "hour_df = pd.read_csv('data/hour.csv')\n",
    "hour_df.head()"
   ]
  },
  {
   "cell_type": "markdown",
   "metadata": {
    "id": "FHSiqaZp8DC1"
   },
   "source": [
    "### Assessing Data"
   ]
  },
  {
   "cell_type": "code",
   "execution_count": 4,
   "metadata": {
    "colab": {
     "base_uri": "https://localhost:8080/"
    },
    "executionInfo": {
     "elapsed": 409,
     "status": "ok",
     "timestamp": 1728042834325,
     "user": {
      "displayName": "Animedy",
      "userId": "05359384498502644151"
     },
     "user_tz": -420
    },
    "id": "ax-3tEjc9Cj1",
    "outputId": "8097ee82-0aef-4781-f3b8-8da71827da5d"
   },
   "outputs": [
    {
     "name": "stdout",
     "output_type": "stream",
     "text": [
      "<class 'pandas.core.frame.DataFrame'>\n",
      "RangeIndex: 731 entries, 0 to 730\n",
      "Data columns (total 16 columns):\n",
      " #   Column      Non-Null Count  Dtype  \n",
      "---  ------      --------------  -----  \n",
      " 0   instant     731 non-null    int64  \n",
      " 1   dteday      731 non-null    object \n",
      " 2   season      731 non-null    int64  \n",
      " 3   yr          731 non-null    int64  \n",
      " 4   mnth        731 non-null    int64  \n",
      " 5   holiday     731 non-null    int64  \n",
      " 6   weekday     731 non-null    int64  \n",
      " 7   workingday  731 non-null    int64  \n",
      " 8   weathersit  731 non-null    int64  \n",
      " 9   temp        731 non-null    float64\n",
      " 10  atemp       731 non-null    float64\n",
      " 11  hum         731 non-null    float64\n",
      " 12  windspeed   731 non-null    float64\n",
      " 13  casual      731 non-null    int64  \n",
      " 14  registered  731 non-null    int64  \n",
      " 15  cnt         731 non-null    int64  \n",
      "dtypes: float64(4), int64(11), object(1)\n",
      "memory usage: 91.5+ KB\n"
     ]
    }
   ],
   "source": [
    "day_df.info()\n"
   ]
  },
  {
   "cell_type": "code",
   "execution_count": 5,
   "metadata": {
    "colab": {
     "base_uri": "https://localhost:8080/"
    },
    "executionInfo": {
     "elapsed": 829,
     "status": "ok",
     "timestamp": 1728042875367,
     "user": {
      "displayName": "Animedy",
      "userId": "05359384498502644151"
     },
     "user_tz": -420
    },
    "id": "K2P3nfWyYWPF",
    "outputId": "d9685af5-4a89-4d3e-9a3f-04ce6ba9c7d4"
   },
   "outputs": [
    {
     "name": "stdout",
     "output_type": "stream",
     "text": [
      "Jumlah duplikasi:  0\n"
     ]
    }
   ],
   "source": [
    "print(\"Jumlah duplikasi: \", day_df.duplicated().sum())"
   ]
  },
  {
   "cell_type": "code",
   "execution_count": 6,
   "metadata": {
    "colab": {
     "base_uri": "https://localhost:8080/",
     "height": 320
    },
    "executionInfo": {
     "elapsed": 470,
     "status": "ok",
     "timestamp": 1728042877939,
     "user": {
      "displayName": "Animedy",
      "userId": "05359384498502644151"
     },
     "user_tz": -420
    },
    "id": "rc1KKV9WYbmD",
    "outputId": "eef61f69-62bb-476b-967d-d2f2e5829bd9"
   },
   "outputs": [
    {
     "data": {
      "text/html": [
       "<div>\n",
       "<style scoped>\n",
       "    .dataframe tbody tr th:only-of-type {\n",
       "        vertical-align: middle;\n",
       "    }\n",
       "\n",
       "    .dataframe tbody tr th {\n",
       "        vertical-align: top;\n",
       "    }\n",
       "\n",
       "    .dataframe thead th {\n",
       "        text-align: right;\n",
       "    }\n",
       "</style>\n",
       "<table border=\"1\" class=\"dataframe\">\n",
       "  <thead>\n",
       "    <tr style=\"text-align: right;\">\n",
       "      <th></th>\n",
       "      <th>instant</th>\n",
       "      <th>season</th>\n",
       "      <th>yr</th>\n",
       "      <th>mnth</th>\n",
       "      <th>holiday</th>\n",
       "      <th>weekday</th>\n",
       "      <th>workingday</th>\n",
       "      <th>weathersit</th>\n",
       "      <th>temp</th>\n",
       "      <th>atemp</th>\n",
       "      <th>hum</th>\n",
       "      <th>windspeed</th>\n",
       "      <th>casual</th>\n",
       "      <th>registered</th>\n",
       "      <th>cnt</th>\n",
       "    </tr>\n",
       "  </thead>\n",
       "  <tbody>\n",
       "    <tr>\n",
       "      <th>count</th>\n",
       "      <td>731.000000</td>\n",
       "      <td>731.000000</td>\n",
       "      <td>731.000000</td>\n",
       "      <td>731.000000</td>\n",
       "      <td>731.000000</td>\n",
       "      <td>731.000000</td>\n",
       "      <td>731.000000</td>\n",
       "      <td>731.000000</td>\n",
       "      <td>731.000000</td>\n",
       "      <td>731.000000</td>\n",
       "      <td>731.000000</td>\n",
       "      <td>731.000000</td>\n",
       "      <td>731.000000</td>\n",
       "      <td>731.000000</td>\n",
       "      <td>731.000000</td>\n",
       "    </tr>\n",
       "    <tr>\n",
       "      <th>mean</th>\n",
       "      <td>366.000000</td>\n",
       "      <td>2.496580</td>\n",
       "      <td>0.500684</td>\n",
       "      <td>6.519836</td>\n",
       "      <td>0.028728</td>\n",
       "      <td>2.997264</td>\n",
       "      <td>0.683995</td>\n",
       "      <td>1.395349</td>\n",
       "      <td>0.495385</td>\n",
       "      <td>0.474354</td>\n",
       "      <td>0.627894</td>\n",
       "      <td>0.190486</td>\n",
       "      <td>848.176471</td>\n",
       "      <td>3656.172367</td>\n",
       "      <td>4504.348837</td>\n",
       "    </tr>\n",
       "    <tr>\n",
       "      <th>std</th>\n",
       "      <td>211.165812</td>\n",
       "      <td>1.110807</td>\n",
       "      <td>0.500342</td>\n",
       "      <td>3.451913</td>\n",
       "      <td>0.167155</td>\n",
       "      <td>2.004787</td>\n",
       "      <td>0.465233</td>\n",
       "      <td>0.544894</td>\n",
       "      <td>0.183051</td>\n",
       "      <td>0.162961</td>\n",
       "      <td>0.142429</td>\n",
       "      <td>0.077498</td>\n",
       "      <td>686.622488</td>\n",
       "      <td>1560.256377</td>\n",
       "      <td>1937.211452</td>\n",
       "    </tr>\n",
       "    <tr>\n",
       "      <th>min</th>\n",
       "      <td>1.000000</td>\n",
       "      <td>1.000000</td>\n",
       "      <td>0.000000</td>\n",
       "      <td>1.000000</td>\n",
       "      <td>0.000000</td>\n",
       "      <td>0.000000</td>\n",
       "      <td>0.000000</td>\n",
       "      <td>1.000000</td>\n",
       "      <td>0.059130</td>\n",
       "      <td>0.079070</td>\n",
       "      <td>0.000000</td>\n",
       "      <td>0.022392</td>\n",
       "      <td>2.000000</td>\n",
       "      <td>20.000000</td>\n",
       "      <td>22.000000</td>\n",
       "    </tr>\n",
       "    <tr>\n",
       "      <th>25%</th>\n",
       "      <td>183.500000</td>\n",
       "      <td>2.000000</td>\n",
       "      <td>0.000000</td>\n",
       "      <td>4.000000</td>\n",
       "      <td>0.000000</td>\n",
       "      <td>1.000000</td>\n",
       "      <td>0.000000</td>\n",
       "      <td>1.000000</td>\n",
       "      <td>0.337083</td>\n",
       "      <td>0.337842</td>\n",
       "      <td>0.520000</td>\n",
       "      <td>0.134950</td>\n",
       "      <td>315.500000</td>\n",
       "      <td>2497.000000</td>\n",
       "      <td>3152.000000</td>\n",
       "    </tr>\n",
       "    <tr>\n",
       "      <th>50%</th>\n",
       "      <td>366.000000</td>\n",
       "      <td>3.000000</td>\n",
       "      <td>1.000000</td>\n",
       "      <td>7.000000</td>\n",
       "      <td>0.000000</td>\n",
       "      <td>3.000000</td>\n",
       "      <td>1.000000</td>\n",
       "      <td>1.000000</td>\n",
       "      <td>0.498333</td>\n",
       "      <td>0.486733</td>\n",
       "      <td>0.626667</td>\n",
       "      <td>0.180975</td>\n",
       "      <td>713.000000</td>\n",
       "      <td>3662.000000</td>\n",
       "      <td>4548.000000</td>\n",
       "    </tr>\n",
       "    <tr>\n",
       "      <th>75%</th>\n",
       "      <td>548.500000</td>\n",
       "      <td>3.000000</td>\n",
       "      <td>1.000000</td>\n",
       "      <td>10.000000</td>\n",
       "      <td>0.000000</td>\n",
       "      <td>5.000000</td>\n",
       "      <td>1.000000</td>\n",
       "      <td>2.000000</td>\n",
       "      <td>0.655417</td>\n",
       "      <td>0.608602</td>\n",
       "      <td>0.730209</td>\n",
       "      <td>0.233214</td>\n",
       "      <td>1096.000000</td>\n",
       "      <td>4776.500000</td>\n",
       "      <td>5956.000000</td>\n",
       "    </tr>\n",
       "    <tr>\n",
       "      <th>max</th>\n",
       "      <td>731.000000</td>\n",
       "      <td>4.000000</td>\n",
       "      <td>1.000000</td>\n",
       "      <td>12.000000</td>\n",
       "      <td>1.000000</td>\n",
       "      <td>6.000000</td>\n",
       "      <td>1.000000</td>\n",
       "      <td>3.000000</td>\n",
       "      <td>0.861667</td>\n",
       "      <td>0.840896</td>\n",
       "      <td>0.972500</td>\n",
       "      <td>0.507463</td>\n",
       "      <td>3410.000000</td>\n",
       "      <td>6946.000000</td>\n",
       "      <td>8714.000000</td>\n",
       "    </tr>\n",
       "  </tbody>\n",
       "</table>\n",
       "</div>"
      ],
      "text/plain": [
       "          instant      season          yr        mnth     holiday     weekday  \\\n",
       "count  731.000000  731.000000  731.000000  731.000000  731.000000  731.000000   \n",
       "mean   366.000000    2.496580    0.500684    6.519836    0.028728    2.997264   \n",
       "std    211.165812    1.110807    0.500342    3.451913    0.167155    2.004787   \n",
       "min      1.000000    1.000000    0.000000    1.000000    0.000000    0.000000   \n",
       "25%    183.500000    2.000000    0.000000    4.000000    0.000000    1.000000   \n",
       "50%    366.000000    3.000000    1.000000    7.000000    0.000000    3.000000   \n",
       "75%    548.500000    3.000000    1.000000   10.000000    0.000000    5.000000   \n",
       "max    731.000000    4.000000    1.000000   12.000000    1.000000    6.000000   \n",
       "\n",
       "       workingday  weathersit        temp       atemp         hum   windspeed  \\\n",
       "count  731.000000  731.000000  731.000000  731.000000  731.000000  731.000000   \n",
       "mean     0.683995    1.395349    0.495385    0.474354    0.627894    0.190486   \n",
       "std      0.465233    0.544894    0.183051    0.162961    0.142429    0.077498   \n",
       "min      0.000000    1.000000    0.059130    0.079070    0.000000    0.022392   \n",
       "25%      0.000000    1.000000    0.337083    0.337842    0.520000    0.134950   \n",
       "50%      1.000000    1.000000    0.498333    0.486733    0.626667    0.180975   \n",
       "75%      1.000000    2.000000    0.655417    0.608602    0.730209    0.233214   \n",
       "max      1.000000    3.000000    0.861667    0.840896    0.972500    0.507463   \n",
       "\n",
       "            casual   registered          cnt  \n",
       "count   731.000000   731.000000   731.000000  \n",
       "mean    848.176471  3656.172367  4504.348837  \n",
       "std     686.622488  1560.256377  1937.211452  \n",
       "min       2.000000    20.000000    22.000000  \n",
       "25%     315.500000  2497.000000  3152.000000  \n",
       "50%     713.000000  3662.000000  4548.000000  \n",
       "75%    1096.000000  4776.500000  5956.000000  \n",
       "max    3410.000000  6946.000000  8714.000000  "
      ]
     },
     "execution_count": 6,
     "metadata": {},
     "output_type": "execute_result"
    }
   ],
   "source": [
    "day_df.describe()\n"
   ]
  },
  {
   "cell_type": "markdown",
   "metadata": {
    "id": "7fhsNffeYi00"
   },
   "source": [
    "Mengecek pada file hour.csv\n"
   ]
  },
  {
   "cell_type": "code",
   "execution_count": 7,
   "metadata": {
    "colab": {
     "base_uri": "https://localhost:8080/"
    },
    "executionInfo": {
     "elapsed": 409,
     "status": "ok",
     "timestamp": 1728042923201,
     "user": {
      "displayName": "Animedy",
      "userId": "05359384498502644151"
     },
     "user_tz": -420
    },
    "id": "PrYKx_h3Ymt8",
    "outputId": "2db5c8c6-8358-493c-b4f7-0b3f289d59ce"
   },
   "outputs": [
    {
     "name": "stdout",
     "output_type": "stream",
     "text": [
      "<class 'pandas.core.frame.DataFrame'>\n",
      "RangeIndex: 17379 entries, 0 to 17378\n",
      "Data columns (total 17 columns):\n",
      " #   Column      Non-Null Count  Dtype  \n",
      "---  ------      --------------  -----  \n",
      " 0   instant     17379 non-null  int64  \n",
      " 1   dteday      17379 non-null  object \n",
      " 2   season      17379 non-null  int64  \n",
      " 3   yr          17379 non-null  int64  \n",
      " 4   mnth        17379 non-null  int64  \n",
      " 5   hr          17379 non-null  int64  \n",
      " 6   holiday     17379 non-null  int64  \n",
      " 7   weekday     17379 non-null  int64  \n",
      " 8   workingday  17379 non-null  int64  \n",
      " 9   weathersit  17379 non-null  int64  \n",
      " 10  temp        17379 non-null  float64\n",
      " 11  atemp       17379 non-null  float64\n",
      " 12  hum         17379 non-null  float64\n",
      " 13  windspeed   17379 non-null  float64\n",
      " 14  casual      17379 non-null  int64  \n",
      " 15  registered  17379 non-null  int64  \n",
      " 16  cnt         17379 non-null  int64  \n",
      "dtypes: float64(4), int64(12), object(1)\n",
      "memory usage: 2.3+ MB\n"
     ]
    }
   ],
   "source": [
    "hour_df.info()\n"
   ]
  },
  {
   "cell_type": "code",
   "execution_count": 8,
   "metadata": {
    "colab": {
     "base_uri": "https://localhost:8080/"
    },
    "executionInfo": {
     "elapsed": 424,
     "status": "ok",
     "timestamp": 1728042930850,
     "user": {
      "displayName": "Animedy",
      "userId": "05359384498502644151"
     },
     "user_tz": -420
    },
    "id": "SeHidmcTYoFH",
    "outputId": "987699eb-0900-4e80-9088-b2a8577ff373"
   },
   "outputs": [
    {
     "name": "stdout",
     "output_type": "stream",
     "text": [
      "Jumlah duplikasi:  0\n"
     ]
    }
   ],
   "source": [
    "print(\"Jumlah duplikasi: \",hour_df.duplicated().sum())\n"
   ]
  },
  {
   "cell_type": "code",
   "execution_count": 9,
   "metadata": {
    "colab": {
     "base_uri": "https://localhost:8080/",
     "height": 320
    },
    "executionInfo": {
     "elapsed": 430,
     "status": "ok",
     "timestamp": 1728042941223,
     "user": {
      "displayName": "Animedy",
      "userId": "05359384498502644151"
     },
     "user_tz": -420
    },
    "id": "3CmBUSP8YqUj",
    "outputId": "617ccc13-b14a-4b14-899c-af10ecd3381f"
   },
   "outputs": [
    {
     "data": {
      "text/html": [
       "<div>\n",
       "<style scoped>\n",
       "    .dataframe tbody tr th:only-of-type {\n",
       "        vertical-align: middle;\n",
       "    }\n",
       "\n",
       "    .dataframe tbody tr th {\n",
       "        vertical-align: top;\n",
       "    }\n",
       "\n",
       "    .dataframe thead th {\n",
       "        text-align: right;\n",
       "    }\n",
       "</style>\n",
       "<table border=\"1\" class=\"dataframe\">\n",
       "  <thead>\n",
       "    <tr style=\"text-align: right;\">\n",
       "      <th></th>\n",
       "      <th>instant</th>\n",
       "      <th>season</th>\n",
       "      <th>yr</th>\n",
       "      <th>mnth</th>\n",
       "      <th>hr</th>\n",
       "      <th>holiday</th>\n",
       "      <th>weekday</th>\n",
       "      <th>workingday</th>\n",
       "      <th>weathersit</th>\n",
       "      <th>temp</th>\n",
       "      <th>atemp</th>\n",
       "      <th>hum</th>\n",
       "      <th>windspeed</th>\n",
       "      <th>casual</th>\n",
       "      <th>registered</th>\n",
       "      <th>cnt</th>\n",
       "    </tr>\n",
       "  </thead>\n",
       "  <tbody>\n",
       "    <tr>\n",
       "      <th>count</th>\n",
       "      <td>17379.0000</td>\n",
       "      <td>17379.000000</td>\n",
       "      <td>17379.000000</td>\n",
       "      <td>17379.000000</td>\n",
       "      <td>17379.000000</td>\n",
       "      <td>17379.000000</td>\n",
       "      <td>17379.000000</td>\n",
       "      <td>17379.000000</td>\n",
       "      <td>17379.000000</td>\n",
       "      <td>17379.000000</td>\n",
       "      <td>17379.000000</td>\n",
       "      <td>17379.000000</td>\n",
       "      <td>17379.000000</td>\n",
       "      <td>17379.000000</td>\n",
       "      <td>17379.000000</td>\n",
       "      <td>17379.000000</td>\n",
       "    </tr>\n",
       "    <tr>\n",
       "      <th>mean</th>\n",
       "      <td>8690.0000</td>\n",
       "      <td>2.501640</td>\n",
       "      <td>0.502561</td>\n",
       "      <td>6.537775</td>\n",
       "      <td>11.546752</td>\n",
       "      <td>0.028770</td>\n",
       "      <td>3.003683</td>\n",
       "      <td>0.682721</td>\n",
       "      <td>1.425283</td>\n",
       "      <td>0.496987</td>\n",
       "      <td>0.475775</td>\n",
       "      <td>0.627229</td>\n",
       "      <td>0.190098</td>\n",
       "      <td>35.676218</td>\n",
       "      <td>153.786869</td>\n",
       "      <td>189.463088</td>\n",
       "    </tr>\n",
       "    <tr>\n",
       "      <th>std</th>\n",
       "      <td>5017.0295</td>\n",
       "      <td>1.106918</td>\n",
       "      <td>0.500008</td>\n",
       "      <td>3.438776</td>\n",
       "      <td>6.914405</td>\n",
       "      <td>0.167165</td>\n",
       "      <td>2.005771</td>\n",
       "      <td>0.465431</td>\n",
       "      <td>0.639357</td>\n",
       "      <td>0.192556</td>\n",
       "      <td>0.171850</td>\n",
       "      <td>0.192930</td>\n",
       "      <td>0.122340</td>\n",
       "      <td>49.305030</td>\n",
       "      <td>151.357286</td>\n",
       "      <td>181.387599</td>\n",
       "    </tr>\n",
       "    <tr>\n",
       "      <th>min</th>\n",
       "      <td>1.0000</td>\n",
       "      <td>1.000000</td>\n",
       "      <td>0.000000</td>\n",
       "      <td>1.000000</td>\n",
       "      <td>0.000000</td>\n",
       "      <td>0.000000</td>\n",
       "      <td>0.000000</td>\n",
       "      <td>0.000000</td>\n",
       "      <td>1.000000</td>\n",
       "      <td>0.020000</td>\n",
       "      <td>0.000000</td>\n",
       "      <td>0.000000</td>\n",
       "      <td>0.000000</td>\n",
       "      <td>0.000000</td>\n",
       "      <td>0.000000</td>\n",
       "      <td>1.000000</td>\n",
       "    </tr>\n",
       "    <tr>\n",
       "      <th>25%</th>\n",
       "      <td>4345.5000</td>\n",
       "      <td>2.000000</td>\n",
       "      <td>0.000000</td>\n",
       "      <td>4.000000</td>\n",
       "      <td>6.000000</td>\n",
       "      <td>0.000000</td>\n",
       "      <td>1.000000</td>\n",
       "      <td>0.000000</td>\n",
       "      <td>1.000000</td>\n",
       "      <td>0.340000</td>\n",
       "      <td>0.333300</td>\n",
       "      <td>0.480000</td>\n",
       "      <td>0.104500</td>\n",
       "      <td>4.000000</td>\n",
       "      <td>34.000000</td>\n",
       "      <td>40.000000</td>\n",
       "    </tr>\n",
       "    <tr>\n",
       "      <th>50%</th>\n",
       "      <td>8690.0000</td>\n",
       "      <td>3.000000</td>\n",
       "      <td>1.000000</td>\n",
       "      <td>7.000000</td>\n",
       "      <td>12.000000</td>\n",
       "      <td>0.000000</td>\n",
       "      <td>3.000000</td>\n",
       "      <td>1.000000</td>\n",
       "      <td>1.000000</td>\n",
       "      <td>0.500000</td>\n",
       "      <td>0.484800</td>\n",
       "      <td>0.630000</td>\n",
       "      <td>0.194000</td>\n",
       "      <td>17.000000</td>\n",
       "      <td>115.000000</td>\n",
       "      <td>142.000000</td>\n",
       "    </tr>\n",
       "    <tr>\n",
       "      <th>75%</th>\n",
       "      <td>13034.5000</td>\n",
       "      <td>3.000000</td>\n",
       "      <td>1.000000</td>\n",
       "      <td>10.000000</td>\n",
       "      <td>18.000000</td>\n",
       "      <td>0.000000</td>\n",
       "      <td>5.000000</td>\n",
       "      <td>1.000000</td>\n",
       "      <td>2.000000</td>\n",
       "      <td>0.660000</td>\n",
       "      <td>0.621200</td>\n",
       "      <td>0.780000</td>\n",
       "      <td>0.253700</td>\n",
       "      <td>48.000000</td>\n",
       "      <td>220.000000</td>\n",
       "      <td>281.000000</td>\n",
       "    </tr>\n",
       "    <tr>\n",
       "      <th>max</th>\n",
       "      <td>17379.0000</td>\n",
       "      <td>4.000000</td>\n",
       "      <td>1.000000</td>\n",
       "      <td>12.000000</td>\n",
       "      <td>23.000000</td>\n",
       "      <td>1.000000</td>\n",
       "      <td>6.000000</td>\n",
       "      <td>1.000000</td>\n",
       "      <td>4.000000</td>\n",
       "      <td>1.000000</td>\n",
       "      <td>1.000000</td>\n",
       "      <td>1.000000</td>\n",
       "      <td>0.850700</td>\n",
       "      <td>367.000000</td>\n",
       "      <td>886.000000</td>\n",
       "      <td>977.000000</td>\n",
       "    </tr>\n",
       "  </tbody>\n",
       "</table>\n",
       "</div>"
      ],
      "text/plain": [
       "          instant        season            yr          mnth            hr  \\\n",
       "count  17379.0000  17379.000000  17379.000000  17379.000000  17379.000000   \n",
       "mean    8690.0000      2.501640      0.502561      6.537775     11.546752   \n",
       "std     5017.0295      1.106918      0.500008      3.438776      6.914405   \n",
       "min        1.0000      1.000000      0.000000      1.000000      0.000000   \n",
       "25%     4345.5000      2.000000      0.000000      4.000000      6.000000   \n",
       "50%     8690.0000      3.000000      1.000000      7.000000     12.000000   \n",
       "75%    13034.5000      3.000000      1.000000     10.000000     18.000000   \n",
       "max    17379.0000      4.000000      1.000000     12.000000     23.000000   \n",
       "\n",
       "            holiday       weekday    workingday    weathersit          temp  \\\n",
       "count  17379.000000  17379.000000  17379.000000  17379.000000  17379.000000   \n",
       "mean       0.028770      3.003683      0.682721      1.425283      0.496987   \n",
       "std        0.167165      2.005771      0.465431      0.639357      0.192556   \n",
       "min        0.000000      0.000000      0.000000      1.000000      0.020000   \n",
       "25%        0.000000      1.000000      0.000000      1.000000      0.340000   \n",
       "50%        0.000000      3.000000      1.000000      1.000000      0.500000   \n",
       "75%        0.000000      5.000000      1.000000      2.000000      0.660000   \n",
       "max        1.000000      6.000000      1.000000      4.000000      1.000000   \n",
       "\n",
       "              atemp           hum     windspeed        casual    registered  \\\n",
       "count  17379.000000  17379.000000  17379.000000  17379.000000  17379.000000   \n",
       "mean       0.475775      0.627229      0.190098     35.676218    153.786869   \n",
       "std        0.171850      0.192930      0.122340     49.305030    151.357286   \n",
       "min        0.000000      0.000000      0.000000      0.000000      0.000000   \n",
       "25%        0.333300      0.480000      0.104500      4.000000     34.000000   \n",
       "50%        0.484800      0.630000      0.194000     17.000000    115.000000   \n",
       "75%        0.621200      0.780000      0.253700     48.000000    220.000000   \n",
       "max        1.000000      1.000000      0.850700    367.000000    886.000000   \n",
       "\n",
       "                cnt  \n",
       "count  17379.000000  \n",
       "mean     189.463088  \n",
       "std      181.387599  \n",
       "min        1.000000  \n",
       "25%       40.000000  \n",
       "50%      142.000000  \n",
       "75%      281.000000  \n",
       "max      977.000000  "
      ]
     },
     "execution_count": 9,
     "metadata": {},
     "output_type": "execute_result"
    }
   ],
   "source": [
    "hour_df.describe()\n"
   ]
  },
  {
   "cell_type": "markdown",
   "metadata": {
    "id": "EhN5R4hr8DC1"
   },
   "source": [
    "### Cleaning Data"
   ]
  },
  {
   "cell_type": "markdown",
   "metadata": {
    "id": "_raLu1icYw-o"
   },
   "source": [
    "**Melakukan pengubahan tipe data pada tabel day_df**"
   ]
  },
  {
   "cell_type": "code",
   "execution_count": 10,
   "metadata": {
    "executionInfo": {
     "elapsed": 390,
     "status": "ok",
     "timestamp": 1728043013517,
     "user": {
      "displayName": "Animedy",
      "userId": "05359384498502644151"
     },
     "user_tz": -420
    },
    "id": "jVnYpprE9Evz"
   },
   "outputs": [],
   "source": [
    "day_df['dteday'] = pd.to_datetime(day_df['dteday'])\n",
    "day_df['season'] = day_df.season.astype('category')\n",
    "day_df['mnth'] = day_df.mnth.astype('category')\n",
    "day_df['holiday'] = day_df.holiday.astype('category')\n",
    "day_df['weekday'] = day_df.weekday.astype('category')\n",
    "day_df['workingday'] = day_df.workingday.astype('category')\n",
    "day_df['weathersit'] = day_df.weathersit.astype('category')"
   ]
  },
  {
   "cell_type": "code",
   "execution_count": 11,
   "metadata": {
    "colab": {
     "base_uri": "https://localhost:8080/"
    },
    "executionInfo": {
     "elapsed": 592,
     "status": "ok",
     "timestamp": 1728043020937,
     "user": {
      "displayName": "Animedy",
      "userId": "05359384498502644151"
     },
     "user_tz": -420
    },
    "id": "mmBOVglXY-oO",
    "outputId": "645acd8c-6841-4174-ddf9-1be476e5fe3c"
   },
   "outputs": [
    {
     "name": "stdout",
     "output_type": "stream",
     "text": [
      "<class 'pandas.core.frame.DataFrame'>\n",
      "RangeIndex: 731 entries, 0 to 730\n",
      "Data columns (total 16 columns):\n",
      " #   Column      Non-Null Count  Dtype         \n",
      "---  ------      --------------  -----         \n",
      " 0   instant     731 non-null    int64         \n",
      " 1   dteday      731 non-null    datetime64[ns]\n",
      " 2   season      731 non-null    category      \n",
      " 3   yr          731 non-null    int64         \n",
      " 4   mnth        731 non-null    category      \n",
      " 5   holiday     731 non-null    category      \n",
      " 6   weekday     731 non-null    category      \n",
      " 7   workingday  731 non-null    category      \n",
      " 8   weathersit  731 non-null    category      \n",
      " 9   temp        731 non-null    float64       \n",
      " 10  atemp       731 non-null    float64       \n",
      " 11  hum         731 non-null    float64       \n",
      " 12  windspeed   731 non-null    float64       \n",
      " 13  casual      731 non-null    int64         \n",
      " 14  registered  731 non-null    int64         \n",
      " 15  cnt         731 non-null    int64         \n",
      "dtypes: category(6), datetime64[ns](1), float64(4), int64(5)\n",
      "memory usage: 62.8 KB\n"
     ]
    }
   ],
   "source": [
    "day_df.info()\n"
   ]
  },
  {
   "cell_type": "markdown",
   "metadata": {
    "id": "dIcaxoomZJDP"
   },
   "source": [
    "**Mengubah values pada tabel day_df**\n"
   ]
  },
  {
   "cell_type": "code",
   "execution_count": null,
   "metadata": {
    "id": "t3bpWgfkZQSi"
   },
   "outputs": [],
   "source": []
  },
  {
   "cell_type": "code",
   "execution_count": 12,
   "metadata": {
    "colab": {
     "base_uri": "https://localhost:8080/"
    },
    "executionInfo": {
     "elapsed": 562,
     "status": "ok",
     "timestamp": 1728043084949,
     "user": {
      "displayName": "Animedy",
      "userId": "05359384498502644151"
     },
     "user_tz": -420
    },
    "id": "HE80B35CZMEK",
    "outputId": "4c5548e3-db6b-42ec-c7f7-4e36e733009d"
   },
   "outputs": [],
   "source": [
    "# Mengubah values pada kolom 'season'\n",
    "season_mapping = {\n",
    "    1: 'Spring',\n",
    "    2: 'Summer',\n",
    "    3: 'Fall',\n",
    "    4: 'Winter'\n",
    "}\n",
    "\n",
    "# Mengubah value pada kolom 'season' menggunakan dictionary penggantian\n",
    "day_df['season'] = day_df['season'].replace(season_mapping)\n",
    "\n",
    "# Mengubah value pada kolom 'yr'\n",
    "day_df['yr'] = day_df['yr'].replace({0: 2011, 1: 2012})\n",
    "\n",
    "# Mengubah values pada kolom 'mnth'\n",
    "mnth_mapping = {\n",
    "    1: 'Jan',\n",
    "    2: 'Feb',\n",
    "    3: 'Mar',\n",
    "    4: 'Apr',\n",
    "    5: 'May',\n",
    "    6: 'Jun',\n",
    "    7: 'Jul',\n",
    "    8: 'Aug',\n",
    "    9: 'Sep',\n",
    "    10: 'Oct',\n",
    "    11: 'Nov',\n",
    "    12: 'Dec'\n",
    "}\n",
    "\n",
    "# Mengubah value pada kolom 'mnth' menggunakan dictionary penggantian\n",
    "day_df['mnth'] = day_df['mnth'].replace(mnth_mapping)\n",
    "\n",
    "# Mengubah value pada kolom 'holiday'\n",
    "day_df['holiday'] = day_df['holiday'].replace({0: 'No', 1: 'Yes'})\n",
    "\n",
    "# Mengubah values pada kolom 'weekday'\n",
    "weekday_mapping = {\n",
    "    0: 'Monday',\n",
    "    1: 'Tuesday',\n",
    "    2: 'Wednesday',\n",
    "    3: 'Thursday',\n",
    "    4: 'Friday',\n",
    "    5: 'Saturday',\n",
    "    6: 'Sunday'\n",
    "}\n",
    "\n",
    "# Mengubah value pada kolom 'weekday' menggunakan dictionary penggantian\n",
    "day_df['weekday'] = day_df['weekday'].replace(weekday_mapping)\n",
    "\n",
    "# Mengubah value pada kolom 'workingday'\n",
    "day_df['workingday'] = day_df['workingday'].replace({0: 'No', 1: 'Yes'})\n",
    "\n",
    "# Mengubah values pada kolom 'weathersit'\n",
    "weathersit_mapping = {\n",
    "    1: 'Clear',\n",
    "    2: 'Mist',\n",
    "    3: 'Light Rain',\n",
    "    4: 'Heavy Rain'\n",
    "}\n",
    "\n",
    "# Mengubah value pada kolom 'weathersit' menggunakan dictionary penggantian\n",
    "day_df['weathersit'] = day_df['weathersit'].replace(weathersit_mapping)\n"
   ]
  },
  {
   "cell_type": "code",
   "execution_count": 13,
   "metadata": {
    "executionInfo": {
     "elapsed": 404,
     "status": "ok",
     "timestamp": 1728043102427,
     "user": {
      "displayName": "Animedy",
      "userId": "05359384498502644151"
     },
     "user_tz": -420
    },
    "id": "j8Jejx-_ZSfV"
   },
   "outputs": [],
   "source": [
    "day_df.rename(columns={\n",
    "    \"dteday\": \"date\",\n",
    "    \"yr\": \"year\",\n",
    "    \"mnth\": \"month\",\n",
    "    \"weathersit\" : \"weather\",\n",
    "    \"hum\" : \"humidity\",\n",
    "    \"casual\": \"nonmember\",\n",
    "    \"registered\": \"member\",\n",
    "    \"cnt\": \"total_count\"\n",
    "}, inplace=True)"
   ]
  },
  {
   "cell_type": "code",
   "execution_count": 14,
   "metadata": {
    "colab": {
     "base_uri": "https://localhost:8080/"
    },
    "executionInfo": {
     "elapsed": 406,
     "status": "ok",
     "timestamp": 1728043108459,
     "user": {
      "displayName": "Animedy",
      "userId": "05359384498502644151"
     },
     "user_tz": -420
    },
    "id": "Oer-8J79ZUES",
    "outputId": "26fee62d-b5ca-41de-faa8-94b12ad9791a"
   },
   "outputs": [
    {
     "name": "stdout",
     "output_type": "stream",
     "text": [
      "<class 'pandas.core.frame.DataFrame'>\n",
      "RangeIndex: 731 entries, 0 to 730\n",
      "Data columns (total 16 columns):\n",
      " #   Column       Non-Null Count  Dtype         \n",
      "---  ------       --------------  -----         \n",
      " 0   instant      731 non-null    int64         \n",
      " 1   date         731 non-null    datetime64[ns]\n",
      " 2   season       731 non-null    category      \n",
      " 3   year         731 non-null    int64         \n",
      " 4   month        731 non-null    category      \n",
      " 5   holiday      731 non-null    category      \n",
      " 6   weekday      731 non-null    category      \n",
      " 7   workingday   731 non-null    category      \n",
      " 8   weather      731 non-null    category      \n",
      " 9   temp         731 non-null    float64       \n",
      " 10  atemp        731 non-null    float64       \n",
      " 11  humidity     731 non-null    float64       \n",
      " 12  windspeed    731 non-null    float64       \n",
      " 13  nonmember    731 non-null    int64         \n",
      " 14  member       731 non-null    int64         \n",
      " 15  total_count  731 non-null    int64         \n",
      "dtypes: category(6), datetime64[ns](1), float64(4), int64(5)\n",
      "memory usage: 62.8 KB\n"
     ]
    }
   ],
   "source": [
    "day_df.info()\n"
   ]
  },
  {
   "cell_type": "code",
   "execution_count": 15,
   "metadata": {
    "colab": {
     "base_uri": "https://localhost:8080/",
     "height": 206
    },
    "executionInfo": {
     "elapsed": 475,
     "status": "ok",
     "timestamp": 1728043165622,
     "user": {
      "displayName": "Animedy",
      "userId": "05359384498502644151"
     },
     "user_tz": -420
    },
    "id": "BqbtRdrAZhto",
    "outputId": "bacb98e4-a5a5-4b51-9e8a-3c3948221676"
   },
   "outputs": [
    {
     "data": {
      "text/html": [
       "<div>\n",
       "<style scoped>\n",
       "    .dataframe tbody tr th:only-of-type {\n",
       "        vertical-align: middle;\n",
       "    }\n",
       "\n",
       "    .dataframe tbody tr th {\n",
       "        vertical-align: top;\n",
       "    }\n",
       "\n",
       "    .dataframe thead th {\n",
       "        text-align: right;\n",
       "    }\n",
       "</style>\n",
       "<table border=\"1\" class=\"dataframe\">\n",
       "  <thead>\n",
       "    <tr style=\"text-align: right;\">\n",
       "      <th></th>\n",
       "      <th>instant</th>\n",
       "      <th>date</th>\n",
       "      <th>season</th>\n",
       "      <th>year</th>\n",
       "      <th>month</th>\n",
       "      <th>holiday</th>\n",
       "      <th>weekday</th>\n",
       "      <th>workingday</th>\n",
       "      <th>weather</th>\n",
       "      <th>temp</th>\n",
       "      <th>atemp</th>\n",
       "      <th>humidity</th>\n",
       "      <th>windspeed</th>\n",
       "      <th>nonmember</th>\n",
       "      <th>member</th>\n",
       "      <th>total_count</th>\n",
       "    </tr>\n",
       "  </thead>\n",
       "  <tbody>\n",
       "    <tr>\n",
       "      <th>0</th>\n",
       "      <td>1</td>\n",
       "      <td>2011-01-01</td>\n",
       "      <td>Spring</td>\n",
       "      <td>2011</td>\n",
       "      <td>Jan</td>\n",
       "      <td>No</td>\n",
       "      <td>Sunday</td>\n",
       "      <td>No</td>\n",
       "      <td>Mist</td>\n",
       "      <td>0.344167</td>\n",
       "      <td>0.363625</td>\n",
       "      <td>0.805833</td>\n",
       "      <td>0.160446</td>\n",
       "      <td>331</td>\n",
       "      <td>654</td>\n",
       "      <td>985</td>\n",
       "    </tr>\n",
       "    <tr>\n",
       "      <th>1</th>\n",
       "      <td>2</td>\n",
       "      <td>2011-01-02</td>\n",
       "      <td>Spring</td>\n",
       "      <td>2011</td>\n",
       "      <td>Jan</td>\n",
       "      <td>No</td>\n",
       "      <td>Monday</td>\n",
       "      <td>No</td>\n",
       "      <td>Mist</td>\n",
       "      <td>0.363478</td>\n",
       "      <td>0.353739</td>\n",
       "      <td>0.696087</td>\n",
       "      <td>0.248539</td>\n",
       "      <td>131</td>\n",
       "      <td>670</td>\n",
       "      <td>801</td>\n",
       "    </tr>\n",
       "    <tr>\n",
       "      <th>2</th>\n",
       "      <td>3</td>\n",
       "      <td>2011-01-03</td>\n",
       "      <td>Spring</td>\n",
       "      <td>2011</td>\n",
       "      <td>Jan</td>\n",
       "      <td>No</td>\n",
       "      <td>Tuesday</td>\n",
       "      <td>Yes</td>\n",
       "      <td>Clear</td>\n",
       "      <td>0.196364</td>\n",
       "      <td>0.189405</td>\n",
       "      <td>0.437273</td>\n",
       "      <td>0.248309</td>\n",
       "      <td>120</td>\n",
       "      <td>1229</td>\n",
       "      <td>1349</td>\n",
       "    </tr>\n",
       "    <tr>\n",
       "      <th>3</th>\n",
       "      <td>4</td>\n",
       "      <td>2011-01-04</td>\n",
       "      <td>Spring</td>\n",
       "      <td>2011</td>\n",
       "      <td>Jan</td>\n",
       "      <td>No</td>\n",
       "      <td>Wednesday</td>\n",
       "      <td>Yes</td>\n",
       "      <td>Clear</td>\n",
       "      <td>0.200000</td>\n",
       "      <td>0.212122</td>\n",
       "      <td>0.590435</td>\n",
       "      <td>0.160296</td>\n",
       "      <td>108</td>\n",
       "      <td>1454</td>\n",
       "      <td>1562</td>\n",
       "    </tr>\n",
       "    <tr>\n",
       "      <th>4</th>\n",
       "      <td>5</td>\n",
       "      <td>2011-01-05</td>\n",
       "      <td>Spring</td>\n",
       "      <td>2011</td>\n",
       "      <td>Jan</td>\n",
       "      <td>No</td>\n",
       "      <td>Thursday</td>\n",
       "      <td>Yes</td>\n",
       "      <td>Clear</td>\n",
       "      <td>0.226957</td>\n",
       "      <td>0.229270</td>\n",
       "      <td>0.436957</td>\n",
       "      <td>0.186900</td>\n",
       "      <td>82</td>\n",
       "      <td>1518</td>\n",
       "      <td>1600</td>\n",
       "    </tr>\n",
       "  </tbody>\n",
       "</table>\n",
       "</div>"
      ],
      "text/plain": [
       "   instant       date  season  year month holiday    weekday workingday  \\\n",
       "0        1 2011-01-01  Spring  2011   Jan      No     Sunday         No   \n",
       "1        2 2011-01-02  Spring  2011   Jan      No     Monday         No   \n",
       "2        3 2011-01-03  Spring  2011   Jan      No    Tuesday        Yes   \n",
       "3        4 2011-01-04  Spring  2011   Jan      No  Wednesday        Yes   \n",
       "4        5 2011-01-05  Spring  2011   Jan      No   Thursday        Yes   \n",
       "\n",
       "  weather      temp     atemp  humidity  windspeed  nonmember  member  \\\n",
       "0    Mist  0.344167  0.363625  0.805833   0.160446        331     654   \n",
       "1    Mist  0.363478  0.353739  0.696087   0.248539        131     670   \n",
       "2   Clear  0.196364  0.189405  0.437273   0.248309        120    1229   \n",
       "3   Clear  0.200000  0.212122  0.590435   0.160296        108    1454   \n",
       "4   Clear  0.226957  0.229270  0.436957   0.186900         82    1518   \n",
       "\n",
       "   total_count  \n",
       "0          985  \n",
       "1          801  \n",
       "2         1349  \n",
       "3         1562  \n",
       "4         1600  "
      ]
     },
     "execution_count": 15,
     "metadata": {},
     "output_type": "execute_result"
    }
   ],
   "source": [
    "day_df.head()\n"
   ]
  },
  {
   "cell_type": "markdown",
   "metadata": {
    "id": "5TCqfaqVZq72"
   },
   "source": [
    "**Mengubah tipe data pada file hour_df**"
   ]
  },
  {
   "cell_type": "code",
   "execution_count": 16,
   "metadata": {
    "executionInfo": {
     "elapsed": 413,
     "status": "ok",
     "timestamp": 1728043231673,
     "user": {
      "displayName": "Animedy",
      "userId": "05359384498502644151"
     },
     "user_tz": -420
    },
    "id": "XluKxWAgZxcM"
   },
   "outputs": [],
   "source": [
    "hour_df['dteday'] = pd.to_datetime(hour_df['dteday'])\n",
    "hour_df['season'] = hour_df.season.astype('category')\n",
    "hour_df['mnth'] = hour_df.mnth.astype('category')\n",
    "hour_df['holiday'] = hour_df.holiday.astype('category')\n",
    "hour_df['weekday'] = hour_df.weekday.astype('category')\n",
    "hour_df['workingday'] = hour_df.workingday.astype('category')\n",
    "hour_df['weathersit'] = hour_df.weathersit.astype('category')"
   ]
  },
  {
   "cell_type": "code",
   "execution_count": 17,
   "metadata": {
    "colab": {
     "base_uri": "https://localhost:8080/"
    },
    "executionInfo": {
     "elapsed": 403,
     "status": "ok",
     "timestamp": 1728043236481,
     "user": {
      "displayName": "Animedy",
      "userId": "05359384498502644151"
     },
     "user_tz": -420
    },
    "id": "Zm4pS6HpZyvL",
    "outputId": "6c0ec0f4-ca7c-40b9-aff3-6704688cee0d"
   },
   "outputs": [
    {
     "name": "stdout",
     "output_type": "stream",
     "text": [
      "<class 'pandas.core.frame.DataFrame'>\n",
      "RangeIndex: 17379 entries, 0 to 17378\n",
      "Data columns (total 17 columns):\n",
      " #   Column      Non-Null Count  Dtype         \n",
      "---  ------      --------------  -----         \n",
      " 0   instant     17379 non-null  int64         \n",
      " 1   dteday      17379 non-null  datetime64[ns]\n",
      " 2   season      17379 non-null  category      \n",
      " 3   yr          17379 non-null  int64         \n",
      " 4   mnth        17379 non-null  category      \n",
      " 5   hr          17379 non-null  int64         \n",
      " 6   holiday     17379 non-null  category      \n",
      " 7   weekday     17379 non-null  category      \n",
      " 8   workingday  17379 non-null  category      \n",
      " 9   weathersit  17379 non-null  category      \n",
      " 10  temp        17379 non-null  float64       \n",
      " 11  atemp       17379 non-null  float64       \n",
      " 12  hum         17379 non-null  float64       \n",
      " 13  windspeed   17379 non-null  float64       \n",
      " 14  casual      17379 non-null  int64         \n",
      " 15  registered  17379 non-null  int64         \n",
      " 16  cnt         17379 non-null  int64         \n",
      "dtypes: category(6), datetime64[ns](1), float64(4), int64(6)\n",
      "memory usage: 1.6 MB\n"
     ]
    }
   ],
   "source": [
    "hour_df.info()\n"
   ]
  },
  {
   "cell_type": "code",
   "execution_count": 18,
   "metadata": {
    "colab": {
     "base_uri": "https://localhost:8080/"
    },
    "executionInfo": {
     "elapsed": 707,
     "status": "ok",
     "timestamp": 1728043246819,
     "user": {
      "displayName": "Animedy",
      "userId": "05359384498502644151"
     },
     "user_tz": -420
    },
    "id": "07Qoui0SZ1ty",
    "outputId": "1c725cd1-2d8d-43d9-f288-17f5c57061cf"
   },
   "outputs": [],
   "source": [
    "# Mengubah values pada kolom 'season'\n",
    "season_mapping = {\n",
    "    1: 'Spring',\n",
    "    2: 'Summer',\n",
    "    3: 'Fall',\n",
    "    4: 'Winter'\n",
    "}\n",
    "\n",
    "# Mengubah value pada kolom 'season' menggunakan dictionary penggantian\n",
    "hour_df['season'] = hour_df['season'].replace(season_mapping)\n",
    "\n",
    "# Mengubah value pada kolom 'yr'\n",
    "hour_df['yr'] = hour_df['yr'].replace({0: 2011, 1: 2012})\n",
    "\n",
    "# Mengubah values pada kolom 'mnth'\n",
    "mnth_mapping = {\n",
    "    1: 'Jan',\n",
    "    2: 'Feb',\n",
    "    3: 'Mar',\n",
    "    4: 'Apr',\n",
    "    5: 'May',\n",
    "    6: 'Jun',\n",
    "    7: 'Jul',\n",
    "    8: 'Aug',\n",
    "    9: 'Sep',\n",
    "    10: 'Oct',\n",
    "    11: 'Nov',\n",
    "    12: 'Dec'\n",
    "}\n",
    "\n",
    "# Mengubah value pada kolom 'mnth' menggunakan dictionary penggantian\n",
    "hour_df['mnth'] = hour_df['mnth'].replace(mnth_mapping)\n",
    "\n",
    "# Mengubah value pada kolom 'hr'\n",
    "hr_mapping = {\n",
    "    0: '00:00 - 04:00', 1: '00:00 - 04:00', 2: '00:00 - 04:00', 3: '00:00 - 04:00',\n",
    "    4: '04:00 - 08:00', 5: '04:00 - 08:00', 6: '04:00 - 08:00', 7: '04:00 - 08:00',\n",
    "    8: '08:00 - 12:00', 9: '08:00 - 12:00', 10: '08:00 - 12:00', 11: '08:00 - 12:00',\n",
    "    12: '12:00 - 16:00', 13: '12:00 - 16:00', 14: '12:00 - 16:00', 15: '12:00 - 16:00',\n",
    "    16: '16:00 - 20:00', 17: '16:00 - 20:00', 18: '16:00 - 20:00', 19: '16:00 - 20:00',\n",
    "    20: '20:00 - 00:00', 21: '20:00 - 00:00', 22: '20:00 - 00:00', 23: '20:00 - 00:00'\n",
    "}\n",
    "\n",
    "# Mengubah value pada kolom 'hr' menggunakan dictionary penggantian\n",
    "hour_df['hr'] = hour_df['hr'].replace(hr_mapping)\n",
    "\n",
    "# Mengubah value pada kolom 'holiday'\n",
    "hour_df['holiday'] = hour_df['holiday'].replace({0: 'No', 1: 'Yes'})\n",
    "\n",
    "# Mengubah values pada kolom 'weekday'\n",
    "weekday_mapping = {\n",
    "    0: 'Monday',\n",
    "    1: 'Tuesday',\n",
    "    2: 'Wednesday',\n",
    "    3: 'Thursday',\n",
    "    4: 'Friday',\n",
    "    5: 'Saturday',\n",
    "    6: 'Sunday'\n",
    "}\n",
    "\n",
    "# Mengubah value pada kolom 'weekday' menggunakan dictionary penggantian\n",
    "hour_df['weekday'] = hour_df['weekday'].replace(weekday_mapping)\n",
    "\n",
    "# Mengubah value pada kolom 'workingday'\n",
    "hour_df['workingday'] = hour_df['workingday'].replace({0: 'No', 1: 'Yes'})\n",
    "\n",
    "# Mengubah values pada kolom 'weathersit'\n",
    "weathersit_mapping = {\n",
    "    1: 'Clear',\n",
    "    2: 'Mist',\n",
    "    3: 'Light Rain',\n",
    "    4: 'Heavy Rain'\n",
    "}\n",
    "\n",
    "# Mengubah value pada kolom 'weathersit' menggunakan dictionary penggantian\n",
    "hour_df['weathersit'] = hour_df['weathersit'].replace(weathersit_mapping)\n",
    "\n",
    "# Mengubah value pada kolom 'temp', 'atemp', 'hum', 'windspeed' menggunakan skala sebenarnya\n",
    "max_temp = 41\n",
    "max_atemp = 50\n",
    "max_hum = 100\n",
    "max_windspeed = 67\n",
    "\n",
    "hour_df['temp'] = hour_df['temp'] * max_temp\n",
    "hour_df['atemp'] = hour_df['atemp'] * max_atemp\n",
    "hour_df['hum'] = hour_df['hum'] * max_hum\n",
    "hour_df['windspeed'] = hour_df['windspeed'] * max_windspeed"
   ]
  },
  {
   "cell_type": "code",
   "execution_count": 19,
   "metadata": {
    "executionInfo": {
     "elapsed": 389,
     "status": "ok",
     "timestamp": 1728043253746,
     "user": {
      "displayName": "Animedy",
      "userId": "05359384498502644151"
     },
     "user_tz": -420
    },
    "id": "FjFyb8ZMZ2oq"
   },
   "outputs": [],
   "source": [
    "hour_df.rename(columns={\n",
    "    \"dteday\": \"date\",\n",
    "    \"yr\": \"year\",\n",
    "    \"mnth\": \"month\",\n",
    "    \"hr\": \"hour\",\n",
    "    \"weathersit\" : \"weather\",\n",
    "    \"hum\" : \"humidity\",\n",
    "    \"casual\": \"nonmember\",\n",
    "    \"registered\": \"member\",\n",
    "    \"cnt\": \"total_count\"\n",
    "}, inplace=True)"
   ]
  },
  {
   "cell_type": "code",
   "execution_count": 20,
   "metadata": {
    "colab": {
     "base_uri": "https://localhost:8080/"
    },
    "executionInfo": {
     "elapsed": 424,
     "status": "ok",
     "timestamp": 1728043260863,
     "user": {
      "displayName": "Animedy",
      "userId": "05359384498502644151"
     },
     "user_tz": -420
    },
    "id": "jLc0Ys3tZ5Qb",
    "outputId": "f0155534-1047-40b2-935c-2b423bb6ff39"
   },
   "outputs": [
    {
     "name": "stdout",
     "output_type": "stream",
     "text": [
      "<class 'pandas.core.frame.DataFrame'>\n",
      "RangeIndex: 17379 entries, 0 to 17378\n",
      "Data columns (total 17 columns):\n",
      " #   Column       Non-Null Count  Dtype         \n",
      "---  ------       --------------  -----         \n",
      " 0   instant      17379 non-null  int64         \n",
      " 1   date         17379 non-null  datetime64[ns]\n",
      " 2   season       17379 non-null  category      \n",
      " 3   year         17379 non-null  int64         \n",
      " 4   month        17379 non-null  category      \n",
      " 5   hour         17379 non-null  object        \n",
      " 6   holiday      17379 non-null  category      \n",
      " 7   weekday      17379 non-null  category      \n",
      " 8   workingday   17379 non-null  category      \n",
      " 9   weather      17379 non-null  category      \n",
      " 10  temp         17379 non-null  float64       \n",
      " 11  atemp        17379 non-null  float64       \n",
      " 12  humidity     17379 non-null  float64       \n",
      " 13  windspeed    17379 non-null  float64       \n",
      " 14  nonmember    17379 non-null  int64         \n",
      " 15  member       17379 non-null  int64         \n",
      " 16  total_count  17379 non-null  int64         \n",
      "dtypes: category(6), datetime64[ns](1), float64(4), int64(5), object(1)\n",
      "memory usage: 1.6+ MB\n"
     ]
    }
   ],
   "source": [
    "hour_df.info()\n"
   ]
  },
  {
   "cell_type": "code",
   "execution_count": 21,
   "metadata": {
    "colab": {
     "base_uri": "https://localhost:8080/",
     "height": 206
    },
    "executionInfo": {
     "elapsed": 443,
     "status": "ok",
     "timestamp": 1728043269354,
     "user": {
      "displayName": "Animedy",
      "userId": "05359384498502644151"
     },
     "user_tz": -420
    },
    "id": "1uXLqZkpZ7V7",
    "outputId": "9b988f94-591e-4c90-e20c-350a63e3944c"
   },
   "outputs": [
    {
     "data": {
      "text/html": [
       "<div>\n",
       "<style scoped>\n",
       "    .dataframe tbody tr th:only-of-type {\n",
       "        vertical-align: middle;\n",
       "    }\n",
       "\n",
       "    .dataframe tbody tr th {\n",
       "        vertical-align: top;\n",
       "    }\n",
       "\n",
       "    .dataframe thead th {\n",
       "        text-align: right;\n",
       "    }\n",
       "</style>\n",
       "<table border=\"1\" class=\"dataframe\">\n",
       "  <thead>\n",
       "    <tr style=\"text-align: right;\">\n",
       "      <th></th>\n",
       "      <th>instant</th>\n",
       "      <th>date</th>\n",
       "      <th>season</th>\n",
       "      <th>year</th>\n",
       "      <th>month</th>\n",
       "      <th>hour</th>\n",
       "      <th>holiday</th>\n",
       "      <th>weekday</th>\n",
       "      <th>workingday</th>\n",
       "      <th>weather</th>\n",
       "      <th>temp</th>\n",
       "      <th>atemp</th>\n",
       "      <th>humidity</th>\n",
       "      <th>windspeed</th>\n",
       "      <th>nonmember</th>\n",
       "      <th>member</th>\n",
       "      <th>total_count</th>\n",
       "    </tr>\n",
       "  </thead>\n",
       "  <tbody>\n",
       "    <tr>\n",
       "      <th>0</th>\n",
       "      <td>1</td>\n",
       "      <td>2011-01-01</td>\n",
       "      <td>Spring</td>\n",
       "      <td>2011</td>\n",
       "      <td>Jan</td>\n",
       "      <td>00:00 - 04:00</td>\n",
       "      <td>No</td>\n",
       "      <td>Sunday</td>\n",
       "      <td>No</td>\n",
       "      <td>Clear</td>\n",
       "      <td>9.84</td>\n",
       "      <td>14.395</td>\n",
       "      <td>81.0</td>\n",
       "      <td>0.0</td>\n",
       "      <td>3</td>\n",
       "      <td>13</td>\n",
       "      <td>16</td>\n",
       "    </tr>\n",
       "    <tr>\n",
       "      <th>1</th>\n",
       "      <td>2</td>\n",
       "      <td>2011-01-01</td>\n",
       "      <td>Spring</td>\n",
       "      <td>2011</td>\n",
       "      <td>Jan</td>\n",
       "      <td>00:00 - 04:00</td>\n",
       "      <td>No</td>\n",
       "      <td>Sunday</td>\n",
       "      <td>No</td>\n",
       "      <td>Clear</td>\n",
       "      <td>9.02</td>\n",
       "      <td>13.635</td>\n",
       "      <td>80.0</td>\n",
       "      <td>0.0</td>\n",
       "      <td>8</td>\n",
       "      <td>32</td>\n",
       "      <td>40</td>\n",
       "    </tr>\n",
       "    <tr>\n",
       "      <th>2</th>\n",
       "      <td>3</td>\n",
       "      <td>2011-01-01</td>\n",
       "      <td>Spring</td>\n",
       "      <td>2011</td>\n",
       "      <td>Jan</td>\n",
       "      <td>00:00 - 04:00</td>\n",
       "      <td>No</td>\n",
       "      <td>Sunday</td>\n",
       "      <td>No</td>\n",
       "      <td>Clear</td>\n",
       "      <td>9.02</td>\n",
       "      <td>13.635</td>\n",
       "      <td>80.0</td>\n",
       "      <td>0.0</td>\n",
       "      <td>5</td>\n",
       "      <td>27</td>\n",
       "      <td>32</td>\n",
       "    </tr>\n",
       "    <tr>\n",
       "      <th>3</th>\n",
       "      <td>4</td>\n",
       "      <td>2011-01-01</td>\n",
       "      <td>Spring</td>\n",
       "      <td>2011</td>\n",
       "      <td>Jan</td>\n",
       "      <td>00:00 - 04:00</td>\n",
       "      <td>No</td>\n",
       "      <td>Sunday</td>\n",
       "      <td>No</td>\n",
       "      <td>Clear</td>\n",
       "      <td>9.84</td>\n",
       "      <td>14.395</td>\n",
       "      <td>75.0</td>\n",
       "      <td>0.0</td>\n",
       "      <td>3</td>\n",
       "      <td>10</td>\n",
       "      <td>13</td>\n",
       "    </tr>\n",
       "    <tr>\n",
       "      <th>4</th>\n",
       "      <td>5</td>\n",
       "      <td>2011-01-01</td>\n",
       "      <td>Spring</td>\n",
       "      <td>2011</td>\n",
       "      <td>Jan</td>\n",
       "      <td>04:00 - 08:00</td>\n",
       "      <td>No</td>\n",
       "      <td>Sunday</td>\n",
       "      <td>No</td>\n",
       "      <td>Clear</td>\n",
       "      <td>9.84</td>\n",
       "      <td>14.395</td>\n",
       "      <td>75.0</td>\n",
       "      <td>0.0</td>\n",
       "      <td>0</td>\n",
       "      <td>1</td>\n",
       "      <td>1</td>\n",
       "    </tr>\n",
       "  </tbody>\n",
       "</table>\n",
       "</div>"
      ],
      "text/plain": [
       "   instant       date  season  year month           hour holiday weekday  \\\n",
       "0        1 2011-01-01  Spring  2011   Jan  00:00 - 04:00      No  Sunday   \n",
       "1        2 2011-01-01  Spring  2011   Jan  00:00 - 04:00      No  Sunday   \n",
       "2        3 2011-01-01  Spring  2011   Jan  00:00 - 04:00      No  Sunday   \n",
       "3        4 2011-01-01  Spring  2011   Jan  00:00 - 04:00      No  Sunday   \n",
       "4        5 2011-01-01  Spring  2011   Jan  04:00 - 08:00      No  Sunday   \n",
       "\n",
       "  workingday weather  temp   atemp  humidity  windspeed  nonmember  member  \\\n",
       "0         No   Clear  9.84  14.395      81.0        0.0          3      13   \n",
       "1         No   Clear  9.02  13.635      80.0        0.0          8      32   \n",
       "2         No   Clear  9.02  13.635      80.0        0.0          5      27   \n",
       "3         No   Clear  9.84  14.395      75.0        0.0          3      10   \n",
       "4         No   Clear  9.84  14.395      75.0        0.0          0       1   \n",
       "\n",
       "   total_count  \n",
       "0           16  \n",
       "1           40  \n",
       "2           32  \n",
       "3           13  \n",
       "4            1  "
      ]
     },
     "execution_count": 21,
     "metadata": {},
     "output_type": "execute_result"
    }
   ],
   "source": [
    "hour_df.head()\n"
   ]
  },
  {
   "cell_type": "markdown",
   "metadata": {
    "id": "_v7SvYFbaCsT"
   },
   "source": [
    "**Merge data hour dan day**"
   ]
  },
  {
   "cell_type": "code",
   "execution_count": 22,
   "metadata": {
    "executionInfo": {
     "elapsed": 380,
     "status": "ok",
     "timestamp": 1728043284221,
     "user": {
      "displayName": "Animedy",
      "userId": "05359384498502644151"
     },
     "user_tz": -420
    },
    "id": "wcXb2-2hZ-CY"
   },
   "outputs": [],
   "source": [
    "all_data = day_df.merge(hour_df, on='date', suffixes=('_daily', '_hourly'))"
   ]
  },
  {
   "cell_type": "code",
   "execution_count": 23,
   "metadata": {
    "colab": {
     "base_uri": "https://localhost:8080/"
    },
    "executionInfo": {
     "elapsed": 428,
     "status": "ok",
     "timestamp": 1728043320766,
     "user": {
      "displayName": "Animedy",
      "userId": "05359384498502644151"
     },
     "user_tz": -420
    },
    "id": "XgowNaawaGWF",
    "outputId": "acc49914-942a-4ce3-8720-bf7c3654293d"
   },
   "outputs": [
    {
     "name": "stdout",
     "output_type": "stream",
     "text": [
      "<class 'pandas.core.frame.DataFrame'>\n",
      "RangeIndex: 17379 entries, 0 to 17378\n",
      "Data columns (total 32 columns):\n",
      " #   Column              Non-Null Count  Dtype         \n",
      "---  ------              --------------  -----         \n",
      " 0   instant_daily       17379 non-null  int64         \n",
      " 1   date                17379 non-null  datetime64[ns]\n",
      " 2   season_daily        17379 non-null  category      \n",
      " 3   year_daily          17379 non-null  int64         \n",
      " 4   month_daily         17379 non-null  category      \n",
      " 5   holiday_daily       17379 non-null  category      \n",
      " 6   weekday_daily       17379 non-null  category      \n",
      " 7   workingday_daily    17379 non-null  category      \n",
      " 8   weather_daily       17379 non-null  category      \n",
      " 9   temp_daily          17379 non-null  float64       \n",
      " 10  atemp_daily         17379 non-null  float64       \n",
      " 11  humidity_daily      17379 non-null  float64       \n",
      " 12  windspeed_daily     17379 non-null  float64       \n",
      " 13  nonmember_daily     17379 non-null  int64         \n",
      " 14  member_daily        17379 non-null  int64         \n",
      " 15  total_count_daily   17379 non-null  int64         \n",
      " 16  instant_hourly      17379 non-null  int64         \n",
      " 17  season_hourly       17379 non-null  category      \n",
      " 18  year_hourly         17379 non-null  int64         \n",
      " 19  month_hourly        17379 non-null  category      \n",
      " 20  hour                17379 non-null  object        \n",
      " 21  holiday_hourly      17379 non-null  category      \n",
      " 22  weekday_hourly      17379 non-null  category      \n",
      " 23  workingday_hourly   17379 non-null  category      \n",
      " 24  weather_hourly      17379 non-null  category      \n",
      " 25  temp_hourly         17379 non-null  float64       \n",
      " 26  atemp_hourly        17379 non-null  float64       \n",
      " 27  humidity_hourly     17379 non-null  float64       \n",
      " 28  windspeed_hourly    17379 non-null  float64       \n",
      " 29  nonmember_hourly    17379 non-null  int64         \n",
      " 30  member_hourly       17379 non-null  int64         \n",
      " 31  total_count_hourly  17379 non-null  int64         \n",
      "dtypes: category(12), datetime64[ns](1), float64(8), int64(10), object(1)\n",
      "memory usage: 2.9+ MB\n"
     ]
    }
   ],
   "source": [
    "all_data.info()"
   ]
  },
  {
   "cell_type": "code",
   "execution_count": 24,
   "metadata": {
    "colab": {
     "base_uri": "https://localhost:8080/",
     "height": 429
    },
    "executionInfo": {
     "elapsed": 435,
     "status": "ok",
     "timestamp": 1728043333219,
     "user": {
      "displayName": "Animedy",
      "userId": "05359384498502644151"
     },
     "user_tz": -420
    },
    "id": "aKQUsA3HaK14",
    "outputId": "cc4311e3-b05f-4cd4-fc7e-cb58346d1560"
   },
   "outputs": [
    {
     "data": {
      "text/html": [
       "<div>\n",
       "<style scoped>\n",
       "    .dataframe tbody tr th:only-of-type {\n",
       "        vertical-align: middle;\n",
       "    }\n",
       "\n",
       "    .dataframe tbody tr th {\n",
       "        vertical-align: top;\n",
       "    }\n",
       "\n",
       "    .dataframe thead th {\n",
       "        text-align: right;\n",
       "    }\n",
       "</style>\n",
       "<table border=\"1\" class=\"dataframe\">\n",
       "  <thead>\n",
       "    <tr style=\"text-align: right;\">\n",
       "      <th></th>\n",
       "      <th>instant_daily</th>\n",
       "      <th>date</th>\n",
       "      <th>season_daily</th>\n",
       "      <th>year_daily</th>\n",
       "      <th>month_daily</th>\n",
       "      <th>holiday_daily</th>\n",
       "      <th>weekday_daily</th>\n",
       "      <th>workingday_daily</th>\n",
       "      <th>weather_daily</th>\n",
       "      <th>temp_daily</th>\n",
       "      <th>...</th>\n",
       "      <th>weekday_hourly</th>\n",
       "      <th>workingday_hourly</th>\n",
       "      <th>weather_hourly</th>\n",
       "      <th>temp_hourly</th>\n",
       "      <th>atemp_hourly</th>\n",
       "      <th>humidity_hourly</th>\n",
       "      <th>windspeed_hourly</th>\n",
       "      <th>nonmember_hourly</th>\n",
       "      <th>member_hourly</th>\n",
       "      <th>total_count_hourly</th>\n",
       "    </tr>\n",
       "  </thead>\n",
       "  <tbody>\n",
       "    <tr>\n",
       "      <th>0</th>\n",
       "      <td>1</td>\n",
       "      <td>2011-01-01</td>\n",
       "      <td>Spring</td>\n",
       "      <td>2011</td>\n",
       "      <td>Jan</td>\n",
       "      <td>No</td>\n",
       "      <td>Sunday</td>\n",
       "      <td>No</td>\n",
       "      <td>Mist</td>\n",
       "      <td>0.344167</td>\n",
       "      <td>...</td>\n",
       "      <td>Sunday</td>\n",
       "      <td>No</td>\n",
       "      <td>Clear</td>\n",
       "      <td>9.84</td>\n",
       "      <td>14.395</td>\n",
       "      <td>81.0</td>\n",
       "      <td>0.0</td>\n",
       "      <td>3</td>\n",
       "      <td>13</td>\n",
       "      <td>16</td>\n",
       "    </tr>\n",
       "    <tr>\n",
       "      <th>1</th>\n",
       "      <td>1</td>\n",
       "      <td>2011-01-01</td>\n",
       "      <td>Spring</td>\n",
       "      <td>2011</td>\n",
       "      <td>Jan</td>\n",
       "      <td>No</td>\n",
       "      <td>Sunday</td>\n",
       "      <td>No</td>\n",
       "      <td>Mist</td>\n",
       "      <td>0.344167</td>\n",
       "      <td>...</td>\n",
       "      <td>Sunday</td>\n",
       "      <td>No</td>\n",
       "      <td>Clear</td>\n",
       "      <td>9.02</td>\n",
       "      <td>13.635</td>\n",
       "      <td>80.0</td>\n",
       "      <td>0.0</td>\n",
       "      <td>8</td>\n",
       "      <td>32</td>\n",
       "      <td>40</td>\n",
       "    </tr>\n",
       "    <tr>\n",
       "      <th>2</th>\n",
       "      <td>1</td>\n",
       "      <td>2011-01-01</td>\n",
       "      <td>Spring</td>\n",
       "      <td>2011</td>\n",
       "      <td>Jan</td>\n",
       "      <td>No</td>\n",
       "      <td>Sunday</td>\n",
       "      <td>No</td>\n",
       "      <td>Mist</td>\n",
       "      <td>0.344167</td>\n",
       "      <td>...</td>\n",
       "      <td>Sunday</td>\n",
       "      <td>No</td>\n",
       "      <td>Clear</td>\n",
       "      <td>9.02</td>\n",
       "      <td>13.635</td>\n",
       "      <td>80.0</td>\n",
       "      <td>0.0</td>\n",
       "      <td>5</td>\n",
       "      <td>27</td>\n",
       "      <td>32</td>\n",
       "    </tr>\n",
       "    <tr>\n",
       "      <th>3</th>\n",
       "      <td>1</td>\n",
       "      <td>2011-01-01</td>\n",
       "      <td>Spring</td>\n",
       "      <td>2011</td>\n",
       "      <td>Jan</td>\n",
       "      <td>No</td>\n",
       "      <td>Sunday</td>\n",
       "      <td>No</td>\n",
       "      <td>Mist</td>\n",
       "      <td>0.344167</td>\n",
       "      <td>...</td>\n",
       "      <td>Sunday</td>\n",
       "      <td>No</td>\n",
       "      <td>Clear</td>\n",
       "      <td>9.84</td>\n",
       "      <td>14.395</td>\n",
       "      <td>75.0</td>\n",
       "      <td>0.0</td>\n",
       "      <td>3</td>\n",
       "      <td>10</td>\n",
       "      <td>13</td>\n",
       "    </tr>\n",
       "    <tr>\n",
       "      <th>4</th>\n",
       "      <td>1</td>\n",
       "      <td>2011-01-01</td>\n",
       "      <td>Spring</td>\n",
       "      <td>2011</td>\n",
       "      <td>Jan</td>\n",
       "      <td>No</td>\n",
       "      <td>Sunday</td>\n",
       "      <td>No</td>\n",
       "      <td>Mist</td>\n",
       "      <td>0.344167</td>\n",
       "      <td>...</td>\n",
       "      <td>Sunday</td>\n",
       "      <td>No</td>\n",
       "      <td>Clear</td>\n",
       "      <td>9.84</td>\n",
       "      <td>14.395</td>\n",
       "      <td>75.0</td>\n",
       "      <td>0.0</td>\n",
       "      <td>0</td>\n",
       "      <td>1</td>\n",
       "      <td>1</td>\n",
       "    </tr>\n",
       "  </tbody>\n",
       "</table>\n",
       "<p>5 rows × 32 columns</p>\n",
       "</div>"
      ],
      "text/plain": [
       "   instant_daily       date season_daily  year_daily month_daily  \\\n",
       "0              1 2011-01-01       Spring        2011         Jan   \n",
       "1              1 2011-01-01       Spring        2011         Jan   \n",
       "2              1 2011-01-01       Spring        2011         Jan   \n",
       "3              1 2011-01-01       Spring        2011         Jan   \n",
       "4              1 2011-01-01       Spring        2011         Jan   \n",
       "\n",
       "  holiday_daily weekday_daily workingday_daily weather_daily  temp_daily  ...  \\\n",
       "0            No        Sunday               No          Mist    0.344167  ...   \n",
       "1            No        Sunday               No          Mist    0.344167  ...   \n",
       "2            No        Sunday               No          Mist    0.344167  ...   \n",
       "3            No        Sunday               No          Mist    0.344167  ...   \n",
       "4            No        Sunday               No          Mist    0.344167  ...   \n",
       "\n",
       "   weekday_hourly  workingday_hourly  weather_hourly  temp_hourly  \\\n",
       "0          Sunday                 No           Clear         9.84   \n",
       "1          Sunday                 No           Clear         9.02   \n",
       "2          Sunday                 No           Clear         9.02   \n",
       "3          Sunday                 No           Clear         9.84   \n",
       "4          Sunday                 No           Clear         9.84   \n",
       "\n",
       "   atemp_hourly  humidity_hourly  windspeed_hourly nonmember_hourly  \\\n",
       "0        14.395             81.0               0.0                3   \n",
       "1        13.635             80.0               0.0                8   \n",
       "2        13.635             80.0               0.0                5   \n",
       "3        14.395             75.0               0.0                3   \n",
       "4        14.395             75.0               0.0                0   \n",
       "\n",
       "   member_hourly total_count_hourly  \n",
       "0             13                 16  \n",
       "1             32                 40  \n",
       "2             27                 32  \n",
       "3             10                 13  \n",
       "4              1                  1  \n",
       "\n",
       "[5 rows x 32 columns]"
      ]
     },
     "execution_count": 24,
     "metadata": {},
     "output_type": "execute_result"
    }
   ],
   "source": [
    "all_data.head()\n"
   ]
  },
  {
   "cell_type": "markdown",
   "metadata": {
    "id": "nwJlqZduau3S"
   },
   "source": [
    "**Menyimpan file all_data ke drive**"
   ]
  },
  {
   "cell_type": "code",
   "execution_count": 25,
   "metadata": {
    "executionInfo": {
     "elapsed": 523,
     "status": "ok",
     "timestamp": 1728043467775,
     "user": {
      "displayName": "Animedy",
      "userId": "05359384498502644151"
     },
     "user_tz": -420
    },
    "id": "JXG_KC3naOU_"
   },
   "outputs": [],
   "source": [
    "all_data.to_csv('data/all_data.csv', index=False)\n"
   ]
  },
  {
   "cell_type": "markdown",
   "metadata": {
    "id": "gp-Y6wU38DC1"
   },
   "source": [
    "## Exploratory Data Analysis (EDA)"
   ]
  },
  {
   "cell_type": "markdown",
   "metadata": {
    "id": "MW7WF2kr8DC1"
   },
   "source": [
    "**Pengguna Bikeshare berdasarkan tahun**\n"
   ]
  },
  {
   "cell_type": "code",
   "execution_count": 26,
   "metadata": {
    "colab": {
     "base_uri": "https://localhost:8080/",
     "height": 180
    },
    "executionInfo": {
     "elapsed": 981,
     "status": "ok",
     "timestamp": 1728043554435,
     "user": {
      "displayName": "Animedy",
      "userId": "05359384498502644151"
     },
     "user_tz": -420
    },
    "id": "e9CQCZjk8DC2",
    "outputId": "16a296bf-f650-4c06-ee62-3d1c871951ca"
   },
   "outputs": [
    {
     "data": {
      "text/html": [
       "<div>\n",
       "<style scoped>\n",
       "    .dataframe tbody tr th:only-of-type {\n",
       "        vertical-align: middle;\n",
       "    }\n",
       "\n",
       "    .dataframe tbody tr th {\n",
       "        vertical-align: top;\n",
       "    }\n",
       "\n",
       "    .dataframe thead tr th {\n",
       "        text-align: left;\n",
       "    }\n",
       "\n",
       "    .dataframe thead tr:last-of-type th {\n",
       "        text-align: right;\n",
       "    }\n",
       "</style>\n",
       "<table border=\"1\" class=\"dataframe\">\n",
       "  <thead>\n",
       "    <tr>\n",
       "      <th></th>\n",
       "      <th colspan=\"2\" halign=\"left\">total_count_hourly</th>\n",
       "    </tr>\n",
       "    <tr>\n",
       "      <th></th>\n",
       "      <th>sum</th>\n",
       "      <th>mean</th>\n",
       "    </tr>\n",
       "    <tr>\n",
       "      <th>year_daily</th>\n",
       "      <th></th>\n",
       "      <th></th>\n",
       "    </tr>\n",
       "  </thead>\n",
       "  <tbody>\n",
       "    <tr>\n",
       "      <th>2011</th>\n",
       "      <td>1243103</td>\n",
       "      <td>143.794448</td>\n",
       "    </tr>\n",
       "    <tr>\n",
       "      <th>2012</th>\n",
       "      <td>2049576</td>\n",
       "      <td>234.666361</td>\n",
       "    </tr>\n",
       "  </tbody>\n",
       "</table>\n",
       "</div>"
      ],
      "text/plain": [
       "           total_count_hourly            \n",
       "                          sum        mean\n",
       "year_daily                               \n",
       "2011                  1243103  143.794448\n",
       "2012                  2049576  234.666361"
      ]
     },
     "execution_count": 26,
     "metadata": {},
     "output_type": "execute_result"
    }
   ],
   "source": [
    "all_data.groupby(by=\"year_daily\", observed=False).agg({\n",
    "        \"total_count_hourly\": [\"sum\",\"mean\"]\n",
    "})"
   ]
  },
  {
   "cell_type": "markdown",
   "metadata": {
    "id": "ORLKfd2ubH6S"
   },
   "source": [
    "**Pengguna Bikeshare berdasarkan musim**\n",
    "\n",
    "> Add blockquote\n",
    "\n"
   ]
  },
  {
   "cell_type": "code",
   "execution_count": 27,
   "metadata": {
    "colab": {
     "base_uri": "https://localhost:8080/",
     "height": 237
    },
    "executionInfo": {
     "elapsed": 432,
     "status": "ok",
     "timestamp": 1728043592884,
     "user": {
      "displayName": "Animedy",
      "userId": "05359384498502644151"
     },
     "user_tz": -420
    },
    "id": "FLA9-RNVbKKW",
    "outputId": "9f680eaa-bf99-4c2e-9034-5bec6ecfbf90"
   },
   "outputs": [
    {
     "data": {
      "text/html": [
       "<div>\n",
       "<style scoped>\n",
       "    .dataframe tbody tr th:only-of-type {\n",
       "        vertical-align: middle;\n",
       "    }\n",
       "\n",
       "    .dataframe tbody tr th {\n",
       "        vertical-align: top;\n",
       "    }\n",
       "\n",
       "    .dataframe thead tr th {\n",
       "        text-align: left;\n",
       "    }\n",
       "\n",
       "    .dataframe thead tr:last-of-type th {\n",
       "        text-align: right;\n",
       "    }\n",
       "</style>\n",
       "<table border=\"1\" class=\"dataframe\">\n",
       "  <thead>\n",
       "    <tr>\n",
       "      <th></th>\n",
       "      <th colspan=\"4\" halign=\"left\">total_count_hourly</th>\n",
       "    </tr>\n",
       "    <tr>\n",
       "      <th></th>\n",
       "      <th>sum</th>\n",
       "      <th>mean</th>\n",
       "      <th>max</th>\n",
       "      <th>min</th>\n",
       "    </tr>\n",
       "    <tr>\n",
       "      <th>season_daily</th>\n",
       "      <th></th>\n",
       "      <th></th>\n",
       "      <th></th>\n",
       "      <th></th>\n",
       "    </tr>\n",
       "  </thead>\n",
       "  <tbody>\n",
       "    <tr>\n",
       "      <th>Spring</th>\n",
       "      <td>471348</td>\n",
       "      <td>111.114569</td>\n",
       "      <td>801</td>\n",
       "      <td>1</td>\n",
       "    </tr>\n",
       "    <tr>\n",
       "      <th>Summer</th>\n",
       "      <td>918589</td>\n",
       "      <td>208.344069</td>\n",
       "      <td>957</td>\n",
       "      <td>1</td>\n",
       "    </tr>\n",
       "    <tr>\n",
       "      <th>Fall</th>\n",
       "      <td>1061129</td>\n",
       "      <td>236.016237</td>\n",
       "      <td>977</td>\n",
       "      <td>1</td>\n",
       "    </tr>\n",
       "    <tr>\n",
       "      <th>Winter</th>\n",
       "      <td>841613</td>\n",
       "      <td>198.868856</td>\n",
       "      <td>967</td>\n",
       "      <td>1</td>\n",
       "    </tr>\n",
       "  </tbody>\n",
       "</table>\n",
       "</div>"
      ],
      "text/plain": [
       "             total_count_hourly                     \n",
       "                            sum        mean  max min\n",
       "season_daily                                        \n",
       "Spring                   471348  111.114569  801   1\n",
       "Summer                   918589  208.344069  957   1\n",
       "Fall                    1061129  236.016237  977   1\n",
       "Winter                   841613  198.868856  967   1"
      ]
     },
     "execution_count": 27,
     "metadata": {},
     "output_type": "execute_result"
    }
   ],
   "source": [
    "all_data.groupby(by=\"season_daily\", observed=False).agg({\n",
    "        \"total_count_hourly\": [\"sum\",\"mean\", \"max\", \"min\"]\n",
    "})\n"
   ]
  },
  {
   "cell_type": "markdown",
   "metadata": {
    "id": "23pl-TwhbMl0"
   },
   "source": [
    "**Pengguna Bikeshare berdasarkan bulan**"
   ]
  },
  {
   "cell_type": "code",
   "execution_count": 28,
   "metadata": {
    "colab": {
     "base_uri": "https://localhost:8080/",
     "height": 488
    },
    "executionInfo": {
     "elapsed": 486,
     "status": "ok",
     "timestamp": 1728043620822,
     "user": {
      "displayName": "Animedy",
      "userId": "05359384498502644151"
     },
     "user_tz": -420
    },
    "id": "_IwhMxDtbQAI",
    "outputId": "7fda0ea1-9fbf-4db9-e649-fe29e2d76b22"
   },
   "outputs": [
    {
     "data": {
      "text/html": [
       "<div>\n",
       "<style scoped>\n",
       "    .dataframe tbody tr th:only-of-type {\n",
       "        vertical-align: middle;\n",
       "    }\n",
       "\n",
       "    .dataframe tbody tr th {\n",
       "        vertical-align: top;\n",
       "    }\n",
       "\n",
       "    .dataframe thead tr th {\n",
       "        text-align: left;\n",
       "    }\n",
       "\n",
       "    .dataframe thead tr:last-of-type th {\n",
       "        text-align: right;\n",
       "    }\n",
       "</style>\n",
       "<table border=\"1\" class=\"dataframe\">\n",
       "  <thead>\n",
       "    <tr>\n",
       "      <th></th>\n",
       "      <th colspan=\"5\" halign=\"left\">total_count_hourly</th>\n",
       "    </tr>\n",
       "    <tr>\n",
       "      <th></th>\n",
       "      <th>sum</th>\n",
       "      <th>mean</th>\n",
       "      <th>max</th>\n",
       "      <th>min</th>\n",
       "      <th>std</th>\n",
       "    </tr>\n",
       "    <tr>\n",
       "      <th>month_daily</th>\n",
       "      <th></th>\n",
       "      <th></th>\n",
       "      <th></th>\n",
       "      <th></th>\n",
       "      <th></th>\n",
       "    </tr>\n",
       "  </thead>\n",
       "  <tbody>\n",
       "    <tr>\n",
       "      <th>Jan</th>\n",
       "      <td>134933</td>\n",
       "      <td>94.424773</td>\n",
       "      <td>559</td>\n",
       "      <td>1</td>\n",
       "      <td>99.907146</td>\n",
       "    </tr>\n",
       "    <tr>\n",
       "      <th>Feb</th>\n",
       "      <td>151352</td>\n",
       "      <td>112.865026</td>\n",
       "      <td>610</td>\n",
       "      <td>1</td>\n",
       "      <td>112.486565</td>\n",
       "    </tr>\n",
       "    <tr>\n",
       "      <th>Mar</th>\n",
       "      <td>228920</td>\n",
       "      <td>155.410726</td>\n",
       "      <td>957</td>\n",
       "      <td>1</td>\n",
       "      <td>163.543050</td>\n",
       "    </tr>\n",
       "    <tr>\n",
       "      <th>Apr</th>\n",
       "      <td>269094</td>\n",
       "      <td>187.260960</td>\n",
       "      <td>822</td>\n",
       "      <td>1</td>\n",
       "      <td>181.137902</td>\n",
       "    </tr>\n",
       "    <tr>\n",
       "      <th>May</th>\n",
       "      <td>331686</td>\n",
       "      <td>222.907258</td>\n",
       "      <td>873</td>\n",
       "      <td>1</td>\n",
       "      <td>187.721497</td>\n",
       "    </tr>\n",
       "    <tr>\n",
       "      <th>Jun</th>\n",
       "      <td>346342</td>\n",
       "      <td>240.515278</td>\n",
       "      <td>900</td>\n",
       "      <td>1</td>\n",
       "      <td>196.038950</td>\n",
       "    </tr>\n",
       "    <tr>\n",
       "      <th>Jul</th>\n",
       "      <td>344948</td>\n",
       "      <td>231.819892</td>\n",
       "      <td>913</td>\n",
       "      <td>1</td>\n",
       "      <td>187.483806</td>\n",
       "    </tr>\n",
       "    <tr>\n",
       "      <th>Aug</th>\n",
       "      <td>351194</td>\n",
       "      <td>238.097627</td>\n",
       "      <td>941</td>\n",
       "      <td>1</td>\n",
       "      <td>200.444648</td>\n",
       "    </tr>\n",
       "    <tr>\n",
       "      <th>Sep</th>\n",
       "      <td>345991</td>\n",
       "      <td>240.773138</td>\n",
       "      <td>977</td>\n",
       "      <td>1</td>\n",
       "      <td>214.609531</td>\n",
       "    </tr>\n",
       "    <tr>\n",
       "      <th>Oct</th>\n",
       "      <td>322352</td>\n",
       "      <td>222.158511</td>\n",
       "      <td>963</td>\n",
       "      <td>1</td>\n",
       "      <td>203.477057</td>\n",
       "    </tr>\n",
       "    <tr>\n",
       "      <th>Nov</th>\n",
       "      <td>254831</td>\n",
       "      <td>177.335421</td>\n",
       "      <td>729</td>\n",
       "      <td>1</td>\n",
       "      <td>158.973887</td>\n",
       "    </tr>\n",
       "    <tr>\n",
       "      <th>Dec</th>\n",
       "      <td>211036</td>\n",
       "      <td>142.303439</td>\n",
       "      <td>759</td>\n",
       "      <td>1</td>\n",
       "      <td>141.080674</td>\n",
       "    </tr>\n",
       "  </tbody>\n",
       "</table>\n",
       "</div>"
      ],
      "text/plain": [
       "            total_count_hourly                                 \n",
       "                           sum        mean  max min         std\n",
       "month_daily                                                    \n",
       "Jan                     134933   94.424773  559   1   99.907146\n",
       "Feb                     151352  112.865026  610   1  112.486565\n",
       "Mar                     228920  155.410726  957   1  163.543050\n",
       "Apr                     269094  187.260960  822   1  181.137902\n",
       "May                     331686  222.907258  873   1  187.721497\n",
       "Jun                     346342  240.515278  900   1  196.038950\n",
       "Jul                     344948  231.819892  913   1  187.483806\n",
       "Aug                     351194  238.097627  941   1  200.444648\n",
       "Sep                     345991  240.773138  977   1  214.609531\n",
       "Oct                     322352  222.158511  963   1  203.477057\n",
       "Nov                     254831  177.335421  729   1  158.973887\n",
       "Dec                     211036  142.303439  759   1  141.080674"
      ]
     },
     "execution_count": 28,
     "metadata": {},
     "output_type": "execute_result"
    }
   ],
   "source": [
    "all_data.groupby(by=\"month_daily\", observed=False).agg({\n",
    "        \"total_count_hourly\": [\"sum\",\"mean\", \"max\", \"min\", \"std\"]\n",
    "})"
   ]
  },
  {
   "cell_type": "markdown",
   "metadata": {
    "id": "VFVroZuibTsC"
   },
   "source": [
    "**Pengguna Bikeshare pada hari kerja**"
   ]
  },
  {
   "cell_type": "code",
   "execution_count": 29,
   "metadata": {
    "colab": {
     "base_uri": "https://localhost:8080/",
     "height": 331
    },
    "executionInfo": {
     "elapsed": 517,
     "status": "ok",
     "timestamp": 1728043640172,
     "user": {
      "displayName": "Animedy",
      "userId": "05359384498502644151"
     },
     "user_tz": -420
    },
    "id": "pf2O59VsbTNC",
    "outputId": "59a26a9a-998e-416c-dbfc-f6d53bb13aea"
   },
   "outputs": [
    {
     "data": {
      "text/html": [
       "<div>\n",
       "<style scoped>\n",
       "    .dataframe tbody tr th:only-of-type {\n",
       "        vertical-align: middle;\n",
       "    }\n",
       "\n",
       "    .dataframe tbody tr th {\n",
       "        vertical-align: top;\n",
       "    }\n",
       "\n",
       "    .dataframe thead tr th {\n",
       "        text-align: left;\n",
       "    }\n",
       "\n",
       "    .dataframe thead tr:last-of-type th {\n",
       "        text-align: right;\n",
       "    }\n",
       "</style>\n",
       "<table border=\"1\" class=\"dataframe\">\n",
       "  <thead>\n",
       "    <tr>\n",
       "      <th></th>\n",
       "      <th colspan=\"5\" halign=\"left\">total_count_hourly</th>\n",
       "    </tr>\n",
       "    <tr>\n",
       "      <th></th>\n",
       "      <th>sum</th>\n",
       "      <th>mean</th>\n",
       "      <th>max</th>\n",
       "      <th>min</th>\n",
       "      <th>std</th>\n",
       "    </tr>\n",
       "    <tr>\n",
       "      <th>weekday_daily</th>\n",
       "      <th></th>\n",
       "      <th></th>\n",
       "      <th></th>\n",
       "      <th></th>\n",
       "      <th></th>\n",
       "    </tr>\n",
       "  </thead>\n",
       "  <tbody>\n",
       "    <tr>\n",
       "      <th>Monday</th>\n",
       "      <td>444027</td>\n",
       "      <td>177.468825</td>\n",
       "      <td>776</td>\n",
       "      <td>1</td>\n",
       "      <td>168.167710</td>\n",
       "    </tr>\n",
       "    <tr>\n",
       "      <th>Tuesday</th>\n",
       "      <td>455503</td>\n",
       "      <td>183.744655</td>\n",
       "      <td>968</td>\n",
       "      <td>1</td>\n",
       "      <td>179.514167</td>\n",
       "    </tr>\n",
       "    <tr>\n",
       "      <th>Wednesday</th>\n",
       "      <td>469109</td>\n",
       "      <td>191.238891</td>\n",
       "      <td>970</td>\n",
       "      <td>1</td>\n",
       "      <td>187.820480</td>\n",
       "    </tr>\n",
       "    <tr>\n",
       "      <th>Thursday</th>\n",
       "      <td>473048</td>\n",
       "      <td>191.130505</td>\n",
       "      <td>977</td>\n",
       "      <td>1</td>\n",
       "      <td>190.894464</td>\n",
       "    </tr>\n",
       "    <tr>\n",
       "      <th>Friday</th>\n",
       "      <td>485395</td>\n",
       "      <td>196.436665</td>\n",
       "      <td>976</td>\n",
       "      <td>1</td>\n",
       "      <td>188.011923</td>\n",
       "    </tr>\n",
       "    <tr>\n",
       "      <th>Saturday</th>\n",
       "      <td>487790</td>\n",
       "      <td>196.135907</td>\n",
       "      <td>957</td>\n",
       "      <td>1</td>\n",
       "      <td>174.076894</td>\n",
       "    </tr>\n",
       "    <tr>\n",
       "      <th>Sunday</th>\n",
       "      <td>477807</td>\n",
       "      <td>190.209793</td>\n",
       "      <td>783</td>\n",
       "      <td>1</td>\n",
       "      <td>179.820569</td>\n",
       "    </tr>\n",
       "  </tbody>\n",
       "</table>\n",
       "</div>"
      ],
      "text/plain": [
       "              total_count_hourly                                 \n",
       "                             sum        mean  max min         std\n",
       "weekday_daily                                                    \n",
       "Monday                    444027  177.468825  776   1  168.167710\n",
       "Tuesday                   455503  183.744655  968   1  179.514167\n",
       "Wednesday                 469109  191.238891  970   1  187.820480\n",
       "Thursday                  473048  191.130505  977   1  190.894464\n",
       "Friday                    485395  196.436665  976   1  188.011923\n",
       "Saturday                  487790  196.135907  957   1  174.076894\n",
       "Sunday                    477807  190.209793  783   1  179.820569"
      ]
     },
     "execution_count": 29,
     "metadata": {},
     "output_type": "execute_result"
    }
   ],
   "source": [
    "all_data.groupby(by=\"weekday_daily\", observed=False).agg({\n",
    "        \"total_count_hourly\": [\"sum\",\"mean\", \"max\", \"min\", \"std\"]\n",
    "})\n"
   ]
  },
  {
   "cell_type": "markdown",
   "metadata": {
    "id": "hvdPtGk5bYAV"
   },
   "source": [
    "**Pengguna Bikeshare berdasarkan kategori pelanggan**"
   ]
  },
  {
   "cell_type": "code",
   "execution_count": 30,
   "metadata": {
    "colab": {
     "base_uri": "https://localhost:8080/",
     "height": 174
    },
    "executionInfo": {
     "elapsed": 466,
     "status": "ok",
     "timestamp": 1728043657910,
     "user": {
      "displayName": "Animedy",
      "userId": "05359384498502644151"
     },
     "user_tz": -420
    },
    "id": "LdSKukbobZgY",
    "outputId": "b293e56c-6469-450e-f660-1d5160be9d7d"
   },
   "outputs": [
    {
     "data": {
      "text/html": [
       "<div>\n",
       "<style scoped>\n",
       "    .dataframe tbody tr th:only-of-type {\n",
       "        vertical-align: middle;\n",
       "    }\n",
       "\n",
       "    .dataframe tbody tr th {\n",
       "        vertical-align: top;\n",
       "    }\n",
       "\n",
       "    .dataframe thead tr th {\n",
       "        text-align: left;\n",
       "    }\n",
       "\n",
       "    .dataframe thead tr:last-of-type th {\n",
       "        text-align: right;\n",
       "    }\n",
       "</style>\n",
       "<table border=\"1\" class=\"dataframe\">\n",
       "  <thead>\n",
       "    <tr>\n",
       "      <th></th>\n",
       "      <th>nonmember_hourly</th>\n",
       "      <th>member_hourly</th>\n",
       "    </tr>\n",
       "    <tr>\n",
       "      <th></th>\n",
       "      <th>mean</th>\n",
       "      <th>mean</th>\n",
       "    </tr>\n",
       "    <tr>\n",
       "      <th>year_daily</th>\n",
       "      <th></th>\n",
       "      <th></th>\n",
       "    </tr>\n",
       "  </thead>\n",
       "  <tbody>\n",
       "    <tr>\n",
       "      <th>2011</th>\n",
       "      <td>28.600578</td>\n",
       "      <td>115.193869</td>\n",
       "    </tr>\n",
       "    <tr>\n",
       "      <th>2012</th>\n",
       "      <td>42.679757</td>\n",
       "      <td>191.986604</td>\n",
       "    </tr>\n",
       "  </tbody>\n",
       "</table>\n",
       "</div>"
      ],
      "text/plain": [
       "           nonmember_hourly member_hourly\n",
       "                       mean          mean\n",
       "year_daily                               \n",
       "2011              28.600578    115.193869\n",
       "2012              42.679757    191.986604"
      ]
     },
     "execution_count": 30,
     "metadata": {},
     "output_type": "execute_result"
    }
   ],
   "source": [
    "all_data.groupby(\"year_daily\", observed=False).agg({\n",
    "        \"nonmember_hourly\": [\"mean\"],\n",
    "        \"member_hourly\": [\"mean\"]\n",
    "})\n"
   ]
  },
  {
   "cell_type": "markdown",
   "metadata": {
    "id": "LE9PPCkSbf__"
   },
   "source": [
    "**Rata-rata total pengguna bikeshare berdasarkan tahun dan bulan**"
   ]
  },
  {
   "cell_type": "code",
   "execution_count": 31,
   "metadata": {
    "colab": {
     "base_uri": "https://localhost:8080/",
     "height": 833
    },
    "executionInfo": {
     "elapsed": 446,
     "status": "ok",
     "timestamp": 1728043692665,
     "user": {
      "displayName": "Animedy",
      "userId": "05359384498502644151"
     },
     "user_tz": -420
    },
    "id": "zWmNjpmybhlq",
    "outputId": "e26110bc-e158-43c3-8996-d350bed580ed"
   },
   "outputs": [
    {
     "data": {
      "text/html": [
       "<div>\n",
       "<style scoped>\n",
       "    .dataframe tbody tr th:only-of-type {\n",
       "        vertical-align: middle;\n",
       "    }\n",
       "\n",
       "    .dataframe tbody tr th {\n",
       "        vertical-align: top;\n",
       "    }\n",
       "\n",
       "    .dataframe thead th {\n",
       "        text-align: right;\n",
       "    }\n",
       "</style>\n",
       "<table border=\"1\" class=\"dataframe\">\n",
       "  <thead>\n",
       "    <tr style=\"text-align: right;\">\n",
       "      <th></th>\n",
       "      <th></th>\n",
       "      <th>total_count_hourly</th>\n",
       "    </tr>\n",
       "    <tr>\n",
       "      <th>year_daily</th>\n",
       "      <th>month_daily</th>\n",
       "      <th></th>\n",
       "    </tr>\n",
       "  </thead>\n",
       "  <tbody>\n",
       "    <tr>\n",
       "      <th rowspan=\"12\" valign=\"top\">2011</th>\n",
       "      <th>Jan</th>\n",
       "      <td>55.507267</td>\n",
       "    </tr>\n",
       "    <tr>\n",
       "      <th>Feb</th>\n",
       "      <td>74.291217</td>\n",
       "    </tr>\n",
       "    <tr>\n",
       "      <th>Mar</th>\n",
       "      <td>87.732877</td>\n",
       "    </tr>\n",
       "    <tr>\n",
       "      <th>Apr</th>\n",
       "      <td>131.947149</td>\n",
       "    </tr>\n",
       "    <tr>\n",
       "      <th>May</th>\n",
       "      <td>182.555108</td>\n",
       "    </tr>\n",
       "    <tr>\n",
       "      <th>Jun</th>\n",
       "      <td>199.322222</td>\n",
       "    </tr>\n",
       "    <tr>\n",
       "      <th>Jul</th>\n",
       "      <td>189.974462</td>\n",
       "    </tr>\n",
       "    <tr>\n",
       "      <th>Aug</th>\n",
       "      <td>186.991792</td>\n",
       "    </tr>\n",
       "    <tr>\n",
       "      <th>Sep</th>\n",
       "      <td>177.709902</td>\n",
       "    </tr>\n",
       "    <tr>\n",
       "      <th>Oct</th>\n",
       "      <td>166.232840</td>\n",
       "    </tr>\n",
       "    <tr>\n",
       "      <th>Nov</th>\n",
       "      <td>142.095967</td>\n",
       "    </tr>\n",
       "    <tr>\n",
       "      <th>Dec</th>\n",
       "      <td>117.844804</td>\n",
       "    </tr>\n",
       "    <tr>\n",
       "      <th rowspan=\"12\" valign=\"top\">2012</th>\n",
       "      <th>Jan</th>\n",
       "      <td>130.558704</td>\n",
       "    </tr>\n",
       "    <tr>\n",
       "      <th>Feb</th>\n",
       "      <td>149.041908</td>\n",
       "    </tr>\n",
       "    <tr>\n",
       "      <th>Mar</th>\n",
       "      <td>221.904441</td>\n",
       "    </tr>\n",
       "    <tr>\n",
       "      <th>Apr</th>\n",
       "      <td>242.651811</td>\n",
       "    </tr>\n",
       "    <tr>\n",
       "      <th>May</th>\n",
       "      <td>263.259409</td>\n",
       "    </tr>\n",
       "    <tr>\n",
       "      <th>Jun</th>\n",
       "      <td>281.708333</td>\n",
       "    </tr>\n",
       "    <tr>\n",
       "      <th>Jul</th>\n",
       "      <td>273.665323</td>\n",
       "    </tr>\n",
       "    <tr>\n",
       "      <th>Aug</th>\n",
       "      <td>288.310484</td>\n",
       "    </tr>\n",
       "    <tr>\n",
       "      <th>Sep</th>\n",
       "      <td>303.573611</td>\n",
       "    </tr>\n",
       "    <tr>\n",
       "      <th>Oct</th>\n",
       "      <td>280.848870</td>\n",
       "    </tr>\n",
       "    <tr>\n",
       "      <th>Nov</th>\n",
       "      <td>212.623955</td>\n",
       "    </tr>\n",
       "    <tr>\n",
       "      <th>Dec</th>\n",
       "      <td>166.729111</td>\n",
       "    </tr>\n",
       "  </tbody>\n",
       "</table>\n",
       "</div>"
      ],
      "text/plain": [
       "                        total_count_hourly\n",
       "year_daily month_daily                    \n",
       "2011       Jan                   55.507267\n",
       "           Feb                   74.291217\n",
       "           Mar                   87.732877\n",
       "           Apr                  131.947149\n",
       "           May                  182.555108\n",
       "           Jun                  199.322222\n",
       "           Jul                  189.974462\n",
       "           Aug                  186.991792\n",
       "           Sep                  177.709902\n",
       "           Oct                  166.232840\n",
       "           Nov                  142.095967\n",
       "           Dec                  117.844804\n",
       "2012       Jan                  130.558704\n",
       "           Feb                  149.041908\n",
       "           Mar                  221.904441\n",
       "           Apr                  242.651811\n",
       "           May                  263.259409\n",
       "           Jun                  281.708333\n",
       "           Jul                  273.665323\n",
       "           Aug                  288.310484\n",
       "           Sep                  303.573611\n",
       "           Oct                  280.848870\n",
       "           Nov                  212.623955\n",
       "           Dec                  166.729111"
      ]
     },
     "execution_count": 31,
     "metadata": {},
     "output_type": "execute_result"
    }
   ],
   "source": [
    "all_data.groupby(by=[\"year_daily\", \"month_daily\"], observed=False).agg({\n",
    "    \"total_count_hourly\": \"mean\",\n",
    "})"
   ]
  },
  {
   "cell_type": "markdown",
   "metadata": {
    "id": "zsyZjqak8DC2"
   },
   "source": [
    "## Visualization & Explanatory Analysis"
   ]
  },
  {
   "cell_type": "markdown",
   "metadata": {
    "id": "HZxOiQ6n8DC2"
   },
   "source": [
    "### Pertanyaan 1:Bagaimana Musim Mempengaruhi Penggunaan Bike Sharing?\n"
   ]
  },
  {
   "cell_type": "code",
   "execution_count": 35,
   "metadata": {
    "colab": {
     "base_uri": "https://localhost:8080/",
     "height": 742
    },
    "executionInfo": {
     "elapsed": 1771,
     "status": "ok",
     "timestamp": 1728047175842,
     "user": {
      "displayName": "Animedy",
      "userId": "05359384498502644151"
     },
     "user_tz": -420
    },
    "id": "1swJUdAD8DC2",
    "outputId": "04254f96-ab17-4e99-a15e-7b68f2ff710a"
   },
   "outputs": [
    {
     "data": {
      "image/png": "[encoded data removed]",
      "text/plain": [
       "<Figure size 800x500 with 1 Axes>"
      ]
     },
     "metadata": {},
     "output_type": "display_data"
    }
   ],
   "source": [
    "\n",
    "# Data\n",
    "all_data = pd.DataFrame({\n",
    "    'season_daily': ['Winter', 'Spring', 'Summer', 'Fall', 'Winter', 'Spring', 'Summer', 'Fall'],\n",
    "    'total_count_hourly': [20000, 30000, 40000, 35000, 21000, 32000, 42000, 36000]\n",
    "})\n",
    "\n",
    "# Agregasi data berdasarkan musim\n",
    "season_data = all_data.groupby(by=\"season_daily\").agg({\n",
    "    \"total_count_hourly\": [\"sum\"]\n",
    "}).reset_index()\n",
    "\n",
    "# Plot\n",
    "plt.figure(figsize=(8, 5))\n",
    "sns.barplot(x='season_daily', y=('total_count_hourly', 'sum'), data=season_data, palette=\"viridis\", hue='season_daily', dodge=False)\n",
    "plt.legend([], [], frameon=False)  # Menghapus legenda\n",
    "plt.title(\"Total Penggunaan Bike Sharing Berdasarkan Musim\")\n",
    "plt.xlabel(\"Musim\")\n",
    "plt.ylabel(\"Total Penggunaan\")\n",
    "plt.show()\n"
   ]
  },
  {
   "cell_type": "markdown",
   "metadata": {
    "id": "DgHI7CiU8DC2"
   },
   "source": [
    "### Pertanyaan 2:Bagaimana Perbandingan Pengguna Bike Sharing antara Non-Anggota dan Anggota Berdasarkan Tahun?\n",
    "\n",
    "1.   List item\n",
    "2.   List item\n",
    "\n"
   ]
  },
  {
   "cell_type": "code",
   "execution_count": 36,
   "metadata": {
    "colab": {
     "base_uri": "https://localhost:8080/",
     "height": 487
    },
    "executionInfo": {
     "elapsed": 1639,
     "status": "ok",
     "timestamp": 1728047226676,
     "user": {
      "displayName": "Animedy",
      "userId": "05359384498502644151"
     },
     "user_tz": -420
    },
    "id": "Go0lCsvO8DC2",
    "outputId": "94574974-b253-493c-ea29-60c2f062e0ac"
   },
   "outputs": [
    {
     "data": {
      "image/png": "[encoded data removed]",
      "text/plain": [
       "<Figure size 800x500 with 1 Axes>"
      ]
     },
     "metadata": {},
     "output_type": "display_data"
    }
   ],
   "source": [
    "# Dataframe dummy, ganti all_data dengan data asli Anda\n",
    "all_data = pd.DataFrame({\n",
    "    'year_daily': [2021, 2021, 2022, 2022],\n",
    "    'nonmember_hourly': [100, 150, 120, 140],\n",
    "    'member_hourly': [200, 250, 220, 240]\n",
    "})\n",
    "\n",
    "# Agregasi data berdasarkan tahun\n",
    "member_data = all_data.groupby(\"year_daily\", observed=False).agg({\n",
    "    \"nonmember_hourly\": \"mean\",\n",
    "    \"member_hourly\": \"mean\"\n",
    "})\n",
    "\n",
    "# Plot\n",
    "member_data.plot(kind=\"bar\", figsize=(8, 5), color=['#1f77b4', '#ff7f0e'])\n",
    "plt.title(\"Rata-rata Penggunaan Bike Sharing Non-Anggota vs Anggota Berdasarkan Tahun\")\n",
    "plt.xlabel(\"Tahun\")\n",
    "plt.ylabel(\"Rata-rata Penggunaan\")\n",
    "plt.xticks(rotation=0)\n",
    "plt.legend([\"Non-Anggota\", \"Anggota\"])\n",
    "plt.show()\n"
   ]
  },
  {
   "cell_type": "markdown",
   "metadata": {
    "id": "_WeHlCeX8DC2"
   },
   "source": [
    "## Conclusion"
   ]
  },
  {
   "cell_type": "markdown",
   "metadata": {
    "id": "ZTcyR48Y8DC2"
   },
   "source": [
    "- Bagaimana Musim Mempengaruhi Penggunaan Bike Sharing?\n",
    "Berdasarkan analisis data, terlihat bahwa musim panas (Summer) memiliki tingkat penggunaan bike sharing tertinggi dibandingkan dengan musim lainnya, sementara musim dingin (Winter) memiliki tingkat penggunaan terendah. Hal ini mungkin disebabkan oleh cuaca yang lebih hangat dan kondusif pada musim panas, sehingga lebih banyak orang yang tertarik menggunakan sepeda. Sebaliknya, musim dingin yang biasanya disertai cuaca dingin atau hujan mungkin membuat orang cenderung menghindari penggunaan sepeda.\n",
    "\n",
    "- Conclution pertanyaan 2\n",
    "Dari analisis rata-rata penggunaan per tahun, terlihat bahwa ada peningkatan yang sangat kecil dalam rata-rata penggunaan bike sharing baik oleh anggota maupun non-anggota dari tahun ke tahun. Meskipun ada peningkatan, tren ini tampaknya tidak menunjukkan pertumbuhan yang signifikan. Hal ini mungkin menunjukkan bahwa bike sharing memiliki basis pelanggan yang relatif stabil dan belum mengalami lonjakan popularitas yang besar, meskipun pengguna setia tetap meningkat secara perlahan."
   ]
  }
 ],
 "metadata": {
  "colab": {
   "provenance": [
    {
     "file_id": "1ug4Ox4qIFDSo1koFA0XiNJE-ce12rECy",
     "timestamp": 1728026174018
    }
   ]
  },
  "kernelspec": {
   "display_name": "Python 3 (ipykernel)",
   "language": "python",
   "name": "python3"
  },
  "language_info": {
   "codemirror_mode": {
    "name": "ipython",
    "version": 3
   },
   "file_extension": ".py",
   "mimetype": "text/x-python",
   "name": "python",
   "nbconvert_exporter": "python",
   "pygments_lexer": "ipython3",
   "version": "3.11.1"
  },
  "vscode": {
   "interpreter": {
    "hash": "972b3bf27e332e87b5379f2791f6ef9dfc79c71018c370b0d7423235e20fe4d7"
   }
  }
 },
 "nbformat": 4,
 "nbformat_minor": 4
}
